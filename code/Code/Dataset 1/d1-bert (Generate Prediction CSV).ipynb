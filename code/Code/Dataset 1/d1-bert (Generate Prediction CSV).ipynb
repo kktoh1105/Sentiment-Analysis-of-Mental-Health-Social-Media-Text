{
 "cells": [
  {
   "cell_type": "code",
   "execution_count": 1,
   "id": "8e92f92c-c602-4397-a094-116f344dd44f",
   "metadata": {
    "execution": {
     "iopub.execute_input": "2025-07-06T04:40:37.163958Z",
     "iopub.status.busy": "2025-07-06T04:40:37.163768Z",
     "iopub.status.idle": "2025-07-06T04:41:03.098140Z",
     "shell.execute_reply": "2025-07-06T04:41:03.097349Z",
     "shell.execute_reply.started": "2025-07-06T04:40:37.163941Z"
    }
   },
   "outputs": [
    {
     "name": "stderr",
     "output_type": "stream",
     "text": [
      "2025-07-06 04:40:39.792176: E external/local_xla/xla/stream_executor/cuda/cuda_fft.cc:477] Unable to register cuFFT factory: Attempting to register factory for plugin cuFFT when one has already been registered\n",
      "WARNING: All log messages before absl::InitializeLog() is called are written to STDERR\n",
      "E0000 00:00:1751776839.985498      35 cuda_dnn.cc:8310] Unable to register cuDNN factory: Attempting to register factory for plugin cuDNN when one has already been registered\n",
      "E0000 00:00:1751776840.042623      35 cuda_blas.cc:1418] Unable to register cuBLAS factory: Attempting to register factory for plugin cuBLAS when one has already been registered\n"
     ]
    }
   ],
   "source": [
    "import os\n",
    "import numpy as np\n",
    "import pandas as pd\n",
    "import matplotlib.pyplot as plt\n",
    "from sklearn.utils import resample\n",
    "from sklearn.metrics import classification_report, confusion_matrix, roc_curve, auc, precision_recall_curve, average_precision_score\n",
    "import tensorflow as tf\n",
    "from transformers import BertTokenizer, TFBertModel"
   ]
  },
  {
   "cell_type": "code",
   "execution_count": 2,
   "id": "7cd5c501-6a94-4c6c-8a7e-086de503cef0",
   "metadata": {
    "execution": {
     "iopub.execute_input": "2025-07-06T04:41:05.654360Z",
     "iopub.status.busy": "2025-07-06T04:41:05.654042Z",
     "iopub.status.idle": "2025-07-06T04:41:06.477581Z",
     "shell.execute_reply": "2025-07-06T04:41:06.476770Z",
     "shell.execute_reply.started": "2025-07-06T04:41:05.654340Z"
    }
   },
   "outputs": [
    {
     "name": "stdout",
     "output_type": "stream",
     "text": [
      "                                           statement   status\n",
      "0                                         oh my gosh  Anxiety\n",
      "1  trouble sleeping, confused mind, restless hear...  Anxiety\n",
      "2  All wrong, back off dear, forward doubt. Stay ...  Anxiety\n",
      "3  I've shifted my focus to something else but I'...  Anxiety\n",
      "4  I'm restless and restless, it's been a month n...  Anxiety\n"
     ]
    }
   ],
   "source": [
    "df = pd.read_csv('/kaggle/input/sentiment-analysis-for-mental-health/Combined Data.csv')\n",
    "\n",
    "if 'Unnamed: 0' in df.columns:\n",
    "    df.drop('Unnamed: 0', axis=1, inplace=True)\n",
    "\n",
    "df.dropna(subset=['statement', 'status'], inplace=True)\n",
    "df.drop_duplicates(inplace=True)\n",
    "df.reset_index(drop=True, inplace=True)\n",
    "\n",
    "print(df.head())\n"
   ]
  },
  {
   "cell_type": "code",
   "execution_count": 3,
   "id": "2e5fea8e-dcef-4c6b-b08a-20d13e8f4ae8",
   "metadata": {
    "execution": {
     "iopub.execute_input": "2025-07-06T04:41:08.377892Z",
     "iopub.status.busy": "2025-07-06T04:41:08.377620Z",
     "iopub.status.idle": "2025-07-06T04:41:08.427167Z",
     "shell.execute_reply": "2025-07-06T04:41:08.426437Z",
     "shell.execute_reply.started": "2025-07-06T04:41:08.377871Z"
    }
   },
   "outputs": [
    {
     "name": "stdout",
     "output_type": "stream",
     "text": [
      "After resampling:\n",
      " status\n",
      "Anxiety                 16040\n",
      "Bipolar                 16040\n",
      "Depression              16040\n",
      "Normal                  16040\n",
      "Personality disorder    16040\n",
      "Stress                  16040\n",
      "Suicidal                16040\n",
      "Name: count, dtype: int64\n"
     ]
    }
   ],
   "source": [
    "# Resample to balance classes \n",
    "max_count = df['status'].value_counts().max()\n",
    "df_bal = pd.DataFrame()\n",
    "for status, grp in df.groupby('status'):\n",
    "    if len(grp) < max_count:\n",
    "        grp_res = resample(grp, replace=True, n_samples=max_count, random_state=42)\n",
    "    else:\n",
    "        grp_res = grp\n",
    "    df_bal = pd.concat([df_bal, grp_res])\n",
    "\n",
    "df_bal.reset_index(drop=True, inplace=True)\n",
    "print(\"After resampling:\\n\", df_bal['status'].value_counts())\n",
    "\n",
    "df = df_bal\n"
   ]
  },
  {
   "cell_type": "code",
   "execution_count": 4,
   "id": "61a624dc-fb5f-41ae-82ba-d0d6e093b6f4",
   "metadata": {
    "execution": {
     "iopub.execute_input": "2025-07-06T04:41:10.550989Z",
     "iopub.status.busy": "2025-07-06T04:41:10.550706Z",
     "iopub.status.idle": "2025-07-06T04:41:10.564583Z",
     "shell.execute_reply": "2025-07-06T04:41:10.564025Z",
     "shell.execute_reply.started": "2025-07-06T04:41:10.550966Z"
    }
   },
   "outputs": [],
   "source": [
    "# Build dynamic label map and one-hot labels\n",
    "target_names = sorted(df['status'].unique())\n",
    "num_classes = len(target_names)\n",
    "label_map = {label: idx for idx, label in enumerate(target_names)}\n",
    "df['label'] = df['status'].map(label_map)"
   ]
  },
  {
   "cell_type": "code",
   "execution_count": 6,
   "id": "a226cfdf-9887-4388-86ca-ef13fa9d5ae2",
   "metadata": {
    "execution": {
     "iopub.execute_input": "2025-07-06T04:42:59.747207Z",
     "iopub.status.busy": "2025-07-06T04:42:59.746565Z",
     "iopub.status.idle": "2025-07-06T04:46:38.855325Z",
     "shell.execute_reply": "2025-07-06T04:46:38.854494Z",
     "shell.execute_reply.started": "2025-07-06T04:42:59.747179Z"
    }
   },
   "outputs": [],
   "source": [
    "# Tokenize with BERT\n",
    "tokenizer = BertTokenizer.from_pretrained('bert-base-uncased')\n",
    "MAX_LEN = 128\n",
    "enc = tokenizer(\n",
    "    df['statement'].astype(str).tolist(), padding='max_length', truncation=True,\n",
    "    max_length=MAX_LEN, return_tensors='np'\n",
    ")\n",
    "input_ids = enc['input_ids']\n",
    "attention_mask = enc['attention_mask']\n"
   ]
  },
  {
   "cell_type": "code",
   "execution_count": 7,
   "id": "39332356-624e-4d65-ac1f-836f5c4bc45b",
   "metadata": {
    "execution": {
     "iopub.execute_input": "2025-07-06T04:46:50.396689Z",
     "iopub.status.busy": "2025-07-06T04:46:50.396406Z",
     "iopub.status.idle": "2025-07-06T04:46:51.056874Z",
     "shell.execute_reply": "2025-07-06T04:46:51.056021Z",
     "shell.execute_reply.started": "2025-07-06T04:46:50.396668Z"
    }
   },
   "outputs": [
    {
     "name": "stderr",
     "output_type": "stream",
     "text": [
      "I0000 00:00:1751777210.792734      35 gpu_device.cc:2022] Created device /job:localhost/replica:0/task:0/device:GPU:0 with 13942 MB memory:  -> device: 0, name: Tesla T4, pci bus id: 0000:00:04.0, compute capability: 7.5\n",
      "I0000 00:00:1751777210.793417      35 gpu_device.cc:2022] Created device /job:localhost/replica:0/task:0/device:GPU:1 with 13942 MB memory:  -> device: 1, name: Tesla T4, pci bus id: 0000:00:05.0, compute capability: 7.5\n"
     ]
    }
   ],
   "source": [
    "# Prepare labels and tf.data dataset\n",
    "labels = tf.keras.utils.to_categorical(df['label'], num_classes=num_classes)\n",
    "dataset = tf.data.Dataset.from_tensor_slices(\n",
    "    ({'input_ids': input_ids, 'attention_mask': attention_mask}, labels)\n",
    ")"
   ]
  },
  {
   "cell_type": "code",
   "execution_count": 8,
   "id": "bb30e4b1-4499-4ec2-bacc-641d245125f9",
   "metadata": {
    "execution": {
     "iopub.execute_input": "2025-07-06T04:46:53.641022Z",
     "iopub.status.busy": "2025-07-06T04:46:53.640521Z",
     "iopub.status.idle": "2025-07-06T04:46:55.117275Z",
     "shell.execute_reply": "2025-07-06T04:46:55.116502Z",
     "shell.execute_reply.started": "2025-07-06T04:46:53.641000Z"
    }
   },
   "outputs": [],
   "source": [
    "# Train/val/test split\n",
    "BATCH = 32\n",
    "dataset = dataset.shuffle(buffer_size=len(df), seed=42)\n",
    "n = len(df)\n",
    "n_train = int(0.8 * n)\n",
    "n_val = int(0.1 * n)\n",
    "train_ds = dataset.take(n_train).batch(BATCH)\n",
    "val_ds = dataset.skip(n_train).take(n_val).batch(BATCH)\n",
    "test_ds = dataset.skip(n_train + n_val).batch(BATCH)\n"
   ]
  },
  {
   "cell_type": "code",
   "execution_count": 9,
   "id": "8173c788-ad30-4369-b52f-784133479903",
   "metadata": {
    "execution": {
     "iopub.execute_input": "2025-07-06T04:46:56.914713Z",
     "iopub.status.busy": "2025-07-06T04:46:56.914462Z",
     "iopub.status.idle": "2025-07-06T04:47:04.327640Z",
     "shell.execute_reply": "2025-07-06T04:47:04.327032Z",
     "shell.execute_reply.started": "2025-07-06T04:46:56.914697Z"
    }
   },
   "outputs": [
    {
     "data": {
      "application/vnd.jupyter.widget-view+json": {
       "model_id": "80335e4fdd0b47cfa7cbeb6a5a518a2d",
       "version_major": 2,
       "version_minor": 0
      },
      "text/plain": [
       "model.safetensors:   0%|          | 0.00/440M [00:00<?, ?B/s]"
      ]
     },
     "metadata": {},
     "output_type": "display_data"
    },
    {
     "name": "stderr",
     "output_type": "stream",
     "text": [
      "Some weights of the PyTorch model were not used when initializing the TF 2.0 model TFBertModel: ['cls.predictions.transform.dense.bias', 'cls.seq_relationship.bias', 'cls.predictions.transform.dense.weight', 'cls.predictions.transform.LayerNorm.bias', 'cls.predictions.transform.LayerNorm.weight', 'cls.seq_relationship.weight', 'cls.predictions.bias']\n",
      "- This IS expected if you are initializing TFBertModel from a PyTorch model trained on another task or with another architecture (e.g. initializing a TFBertForSequenceClassification model from a BertForPreTraining model).\n",
      "- This IS NOT expected if you are initializing TFBertModel from a PyTorch model that you expect to be exactly identical (e.g. initializing a TFBertForSequenceClassification model from a BertForSequenceClassification model).\n",
      "All the weights of TFBertModel were initialized from the PyTorch model.\n",
      "If your task is similar to the task the model of the checkpoint was trained on, you can already use TFBertModel for predictions without further training.\n"
     ]
    },
    {
     "name": "stdout",
     "output_type": "stream",
     "text": [
      "Model: \"model\"\n",
      "__________________________________________________________________________________________________\n",
      " Layer (type)                Output Shape                 Param #   Connected to                  \n",
      "==================================================================================================\n",
      " input_ids (InputLayer)      [(None, 128)]                0         []                            \n",
      "                                                                                                  \n",
      " attention_mask (InputLayer  [(None, 128)]                0         []                            \n",
      " )                                                                                                \n",
      "                                                                                                  \n",
      " tf_bert_model (TFBertModel  TFBaseModelOutputWithPooli   1094822   ['input_ids[0][0]',           \n",
      " )                           ngAndCrossAttentions(last_   40         'attention_mask[0][0]']      \n",
      "                             hidden_state=(None, 128, 7                                           \n",
      "                             68),                                                                 \n",
      "                              pooler_output=(None, 768)                                           \n",
      "                             , past_key_values=None, hi                                           \n",
      "                             dden_states=None, attentio                                           \n",
      "                             ns=None, cross_attentions=                                           \n",
      "                             None)                                                                \n",
      "                                                                                                  \n",
      " dropout_37 (Dropout)        (None, 768)                  0         ['tf_bert_model[0][1]']       \n",
      "                                                                                                  \n",
      " dense (Dense)               (None, 256)                  196864    ['dropout_37[0][0]']          \n",
      "                                                                                                  \n",
      " dropout_38 (Dropout)        (None, 256)                  0         ['dense[0][0]']               \n",
      "                                                                                                  \n",
      " dense_1 (Dense)             (None, 7)                    1799      ['dropout_38[0][0]']          \n",
      "                                                                                                  \n",
      "==================================================================================================\n",
      "Total params: 109680903 (418.40 MB)\n",
      "Trainable params: 109680903 (418.40 MB)\n",
      "Non-trainable params: 0 (0.00 Byte)\n",
      "__________________________________________________________________________________________________\n"
     ]
    }
   ],
   "source": [
    "# Build model\n",
    "def build_model():\n",
    "    bert = TFBertModel.from_pretrained('bert-base-uncased')\n",
    "    in_ids = tf.keras.Input(shape=(MAX_LEN,), dtype=tf.int32, name='input_ids')\n",
    "    in_mask = tf.keras.Input(shape=(MAX_LEN,), dtype=tf.int32, name='attention_mask')\n",
    "    x = bert(in_ids, attention_mask=in_mask).pooler_output\n",
    "    x = tf.keras.layers.Dropout(0.5)(x)\n",
    "    x = tf.keras.layers.Dense(256, activation='relu')(x)\n",
    "    x = tf.keras.layers.Dropout(0.3)(x)\n",
    "    out = tf.keras.layers.Dense(num_classes, activation='softmax')(x)\n",
    "    return tf.keras.Model(inputs=[in_ids, in_mask], outputs=out)\n",
    "\n",
    "model = build_model()\n",
    "model.summary()"
   ]
  },
  {
   "cell_type": "code",
   "execution_count": 10,
   "id": "087ab23e-3883-4cff-ad55-04233c3a0ad5",
   "metadata": {
    "execution": {
     "iopub.execute_input": "2025-07-06T04:47:07.205226Z",
     "iopub.status.busy": "2025-07-06T04:47:07.204930Z",
     "iopub.status.idle": "2025-07-06T04:47:07.260306Z",
     "shell.execute_reply": "2025-07-06T04:47:07.259590Z",
     "shell.execute_reply.started": "2025-07-06T04:47:07.205205Z"
    }
   },
   "outputs": [],
   "source": [
    "# Compile model\n",
    "optim = tf.keras.optimizers.Adam(learning_rate=5e-5, epsilon=1e-8)\n",
    "metrics = ['accuracy']\n",
    "for cls, idx in label_map.items():\n",
    "    metrics += [\n",
    "        tf.keras.metrics.Precision(name=f\"prec_{cls}\", class_id=idx),\n",
    "        tf.keras.metrics.Recall(name=f\"rec_{cls}\", class_id=idx)\n",
    "    ]\n",
    "\n",
    "model.compile(\n",
    "    optimizer=optim,\n",
    "    loss='categorical_crossentropy',\n",
    "    metrics=metrics\n",
    ")\n"
   ]
  },
  {
   "cell_type": "code",
   "execution_count": 11,
   "id": "721bb4f6-80be-4140-ab82-b611b8527783",
   "metadata": {
    "execution": {
     "iopub.execute_input": "2025-07-06T04:47:09.369724Z",
     "iopub.status.busy": "2025-07-06T04:47:09.369017Z",
     "iopub.status.idle": "2025-07-06T11:46:49.053871Z",
     "shell.execute_reply": "2025-07-06T11:46:49.053240Z",
     "shell.execute_reply.started": "2025-07-06T04:47:09.369701Z"
    }
   },
   "outputs": [
    {
     "name": "stdout",
     "output_type": "stream",
     "text": [
      "Epoch 1/10\n"
     ]
    },
    {
     "name": "stderr",
     "output_type": "stream",
     "text": [
      "WARNING: All log messages before absl::InitializeLog() is called are written to STDERR\n",
      "I0000 00:00:1751777267.390498     103 service.cc:148] XLA service 0x7e791039c390 initialized for platform CUDA (this does not guarantee that XLA will be used). Devices:\n",
      "I0000 00:00:1751777267.391136     103 service.cc:156]   StreamExecutor device (0): Tesla T4, Compute Capability 7.5\n",
      "I0000 00:00:1751777267.391161     103 service.cc:156]   StreamExecutor device (1): Tesla T4, Compute Capability 7.5\n",
      "I0000 00:00:1751777267.504798     103 cuda_dnn.cc:529] Loaded cuDNN version 90300\n",
      "I0000 00:00:1751777267.619936     103 device_compiler.h:188] Compiled cluster using XLA!  This line is logged at most once for the lifetime of the process.\n"
     ]
    },
    {
     "name": "stdout",
     "output_type": "stream",
     "text": [
      "2807/2807 [==============================] - ETA: 0s - loss: 0.4665 - accuracy: 0.8300 - prec_Anxiety: 0.9310 - rec_Anxiety: 0.8584 - prec_Bipolar: 0.9373 - rec_Bipolar: 0.8623 - prec_Depression: 0.7391 - rec_Depression: 0.5938 - prec_Normal: 0.9351 - rec_Normal: 0.8760 - prec_Personality disorder: 0.9441 - rec_Personality disorder: 0.8861 - prec_Stress: 0.8898 - rec_Stress: 0.8145 - prec_Suicidal: 0.7353 - rec_Suicidal: 0.6996"
     ]
    },
    {
     "name": "stderr",
     "output_type": "stream",
     "text": [
      "/usr/local/lib/python3.11/dist-packages/tf_keras/src/engine/training.py:3098: UserWarning: You are saving your model as an HDF5 file via `model.save()`. This file format is considered legacy. We recommend using instead the native TF-Keras format, e.g. `model.save('my_model.keras')`.\n",
      "  saving_api.save_model(\n"
     ]
    },
    {
     "name": "stdout",
     "output_type": "stream",
     "text": [
      "2807/2807 [==============================] - 2557s 894ms/step - loss: 0.4665 - accuracy: 0.8300 - prec_Anxiety: 0.9310 - rec_Anxiety: 0.8584 - prec_Bipolar: 0.9373 - rec_Bipolar: 0.8623 - prec_Depression: 0.7391 - rec_Depression: 0.5938 - prec_Normal: 0.9351 - rec_Normal: 0.8760 - prec_Personality disorder: 0.9441 - rec_Personality disorder: 0.8861 - prec_Stress: 0.8898 - rec_Stress: 0.8145 - prec_Suicidal: 0.7353 - rec_Suicidal: 0.6996 - val_loss: 0.1914 - val_accuracy: 0.9258 - val_prec_Anxiety: 0.9954 - val_rec_Anxiety: 0.9527 - val_prec_Bipolar: 0.9758 - val_rec_Bipolar: 0.9837 - val_prec_Depression: 0.8844 - val_rec_Depression: 0.7024 - val_prec_Normal: 0.9744 - val_rec_Normal: 0.9471 - val_prec_Personality disorder: 0.9838 - val_rec_Personality disorder: 0.9947 - val_prec_Stress: 0.9439 - val_rec_Stress: 0.9788 - val_prec_Suicidal: 0.7871 - val_rec_Suicidal: 0.8890\n",
      "Epoch 2/10\n",
      "2807/2807 [==============================] - 2510s 894ms/step - loss: 0.1980 - accuracy: 0.9271 - prec_Anxiety: 0.9767 - rec_Anxiety: 0.9675 - prec_Bipolar: 0.9787 - rec_Bipolar: 0.9792 - prec_Depression: 0.8306 - rec_Depression: 0.7612 - prec_Normal: 0.9714 - rec_Normal: 0.9502 - prec_Personality disorder: 0.9896 - rec_Personality disorder: 0.9908 - prec_Stress: 0.9587 - rec_Stress: 0.9667 - prec_Suicidal: 0.8139 - rec_Suicidal: 0.8448 - val_loss: 0.1246 - val_accuracy: 0.9603 - val_prec_Anxiety: 0.9950 - val_rec_Anxiety: 0.9786 - val_prec_Bipolar: 0.9896 - val_rec_Bipolar: 0.9969 - val_prec_Depression: 0.9612 - val_rec_Depression: 0.8090 - val_prec_Normal: 0.9911 - val_rec_Normal: 0.9732 - val_prec_Personality disorder: 0.9883 - val_rec_Personality disorder: 1.0000 - val_prec_Stress: 0.9777 - val_rec_Stress: 0.9884 - val_prec_Suicidal: 0.8506 - val_rec_Suicidal: 0.9673\n",
      "Epoch 3/10\n",
      "2807/2807 [==============================] - 2513s 895ms/step - loss: 0.1358 - accuracy: 0.9532 - prec_Anxiety: 0.9867 - rec_Anxiety: 0.9827 - prec_Bipolar: 0.9880 - rec_Bipolar: 0.9875 - prec_Depression: 0.8896 - rec_Depression: 0.8488 - prec_Normal: 0.9801 - rec_Normal: 0.9675 - prec_Personality disorder: 0.9931 - rec_Personality disorder: 0.9935 - prec_Stress: 0.9733 - rec_Stress: 0.9805 - prec_Suicidal: 0.8761 - rec_Suicidal: 0.8982 - val_loss: 0.0752 - val_accuracy: 0.9781 - val_prec_Anxiety: 0.9958 - val_rec_Anxiety: 0.9946 - val_prec_Bipolar: 0.9963 - val_rec_Bipolar: 0.9988 - val_prec_Depression: 0.9113 - val_rec_Depression: 0.9650 - val_prec_Normal: 0.9961 - val_rec_Normal: 0.9778 - val_prec_Personality disorder: 0.9994 - val_rec_Personality disorder: 0.9931 - val_prec_Stress: 0.9838 - val_rec_Stress: 0.9970 - val_prec_Suicidal: 0.9716 - val_rec_Suicidal: 0.9159\n",
      "Epoch 4/10\n",
      "2807/2807 [==============================] - 2509s 894ms/step - loss: 0.0991 - accuracy: 0.9682 - prec_Anxiety: 0.9887 - rec_Anxiety: 0.9868 - prec_Bipolar: 0.9903 - rec_Bipolar: 0.9907 - prec_Depression: 0.9260 - rec_Depression: 0.8994 - prec_Normal: 0.9865 - rec_Normal: 0.9771 - prec_Personality disorder: 0.9943 - rec_Personality disorder: 0.9941 - prec_Stress: 0.9835 - rec_Stress: 0.9860 - prec_Suicidal: 0.9196 - rec_Suicidal: 0.9330 - val_loss: 0.0425 - val_accuracy: 0.9880 - val_prec_Anxiety: 0.9875 - val_rec_Anxiety: 0.9994 - val_prec_Bipolar: 0.9994 - val_rec_Bipolar: 0.9932 - val_prec_Depression: 0.9660 - val_rec_Depression: 0.9648 - val_prec_Normal: 0.9957 - val_rec_Normal: 0.9938 - val_prec_Personality disorder: 0.9981 - val_rec_Personality disorder: 0.9975 - val_prec_Stress: 0.9963 - val_rec_Stress: 0.9988 - val_prec_Suicidal: 0.9752 - val_rec_Suicidal: 0.9653\n",
      "Epoch 5/10\n",
      "2807/2807 [==============================] - 2516s 896ms/step - loss: 0.0738 - accuracy: 0.9769 - prec_Anxiety: 0.9919 - rec_Anxiety: 0.9920 - prec_Bipolar: 0.9935 - rec_Bipolar: 0.9939 - prec_Depression: 0.9462 - rec_Depression: 0.9292 - prec_Normal: 0.9893 - rec_Normal: 0.9820 - prec_Personality disorder: 0.9957 - rec_Personality disorder: 0.9957 - prec_Stress: 0.9860 - rec_Stress: 0.9875 - prec_Suicidal: 0.9416 - rec_Suicidal: 0.9508 - val_loss: 0.0316 - val_accuracy: 0.9923 - val_prec_Anxiety: 0.9975 - val_rec_Anxiety: 0.9987 - val_prec_Bipolar: 0.9970 - val_rec_Bipolar: 0.9982 - val_prec_Depression: 0.9758 - val_rec_Depression: 0.9758 - val_prec_Normal: 0.9994 - val_rec_Normal: 0.9957 - val_prec_Personality disorder: 0.9932 - val_rec_Personality disorder: 1.0000 - val_prec_Stress: 0.9951 - val_rec_Stress: 0.9982 - val_prec_Suicidal: 0.9884 - val_rec_Suicidal: 0.9745\n",
      "Epoch 6/10\n",
      "2807/2807 [==============================] - 2518s 897ms/step - loss: 0.0604 - accuracy: 0.9814 - prec_Anxiety: 0.9921 - rec_Anxiety: 0.9921 - prec_Bipolar: 0.9938 - rec_Bipolar: 0.9929 - prec_Depression: 0.9579 - rec_Depression: 0.9467 - prec_Normal: 0.9890 - rec_Normal: 0.9849 - prec_Personality disorder: 0.9961 - rec_Personality disorder: 0.9958 - prec_Stress: 0.9885 - rec_Stress: 0.9897 - prec_Suicidal: 0.9581 - rec_Suicidal: 0.9626 - val_loss: 0.0219 - val_accuracy: 0.9935 - val_prec_Anxiety: 0.9981 - val_rec_Anxiety: 0.9981 - val_prec_Bipolar: 0.9970 - val_rec_Bipolar: 1.0000 - val_prec_Depression: 0.9856 - val_rec_Depression: 0.9807 - val_prec_Normal: 0.9987 - val_rec_Normal: 0.9955 - val_prec_Personality disorder: 0.9994 - val_rec_Personality disorder: 0.9988 - val_prec_Stress: 0.9944 - val_rec_Stress: 1.0000 - val_prec_Suicidal: 0.9854 - val_rec_Suicidal: 0.9810\n",
      "Epoch 7/10\n",
      "2807/2807 [==============================] - 2519s 897ms/step - loss: 0.0515 - accuracy: 0.9842 - prec_Anxiety: 0.9916 - rec_Anxiety: 0.9907 - prec_Bipolar: 0.9944 - rec_Bipolar: 0.9941 - prec_Depression: 0.9633 - rec_Depression: 0.9573 - prec_Normal: 0.9911 - rec_Normal: 0.9864 - prec_Personality disorder: 0.9974 - rec_Personality disorder: 0.9977 - prec_Stress: 0.9906 - rec_Stress: 0.9917 - prec_Suicidal: 0.9660 - rec_Suicidal: 0.9671 - val_loss: 0.0214 - val_accuracy: 0.9934 - val_prec_Anxiety: 1.0000 - val_rec_Anxiety: 0.9912 - val_prec_Bipolar: 0.9964 - val_rec_Bipolar: 1.0000 - val_prec_Depression: 0.9937 - val_rec_Depression: 0.9718 - val_prec_Normal: 0.9988 - val_rec_Normal: 0.9975 - val_prec_Personality disorder: 0.9994 - val_rec_Personality disorder: 1.0000 - val_prec_Stress: 0.9918 - val_rec_Stress: 0.9994 - val_prec_Suicidal: 0.9745 - val_rec_Suicidal: 0.9943\n",
      "Epoch 8/10\n",
      "2807/2807 [==============================] - 2517s 897ms/step - loss: 0.0435 - accuracy: 0.9873 - prec_Anxiety: 0.9942 - rec_Anxiety: 0.9930 - prec_Bipolar: 0.9951 - rec_Bipolar: 0.9950 - prec_Depression: 0.9707 - rec_Depression: 0.9653 - prec_Normal: 0.9932 - rec_Normal: 0.9889 - prec_Personality disorder: 0.9968 - rec_Personality disorder: 0.9967 - prec_Stress: 0.9914 - rec_Stress: 0.9925 - prec_Suicidal: 0.9726 - rec_Suicidal: 0.9750 - val_loss: 0.0144 - val_accuracy: 0.9960 - val_prec_Anxiety: 0.9974 - val_rec_Anxiety: 0.9987 - val_prec_Bipolar: 0.9976 - val_rec_Bipolar: 1.0000 - val_prec_Depression: 0.9919 - val_rec_Depression: 0.9889 - val_prec_Normal: 0.9988 - val_rec_Normal: 0.9950 - val_prec_Personality disorder: 1.0000 - val_rec_Personality disorder: 1.0000 - val_prec_Stress: 0.9926 - val_rec_Stress: 1.0000 - val_prec_Suicidal: 0.9950 - val_rec_Suicidal: 0.9883\n",
      "Epoch 9/10\n",
      "2807/2807 [==============================] - 2510s 894ms/step - loss: 0.0405 - accuracy: 0.9876 - prec_Anxiety: 0.9935 - rec_Anxiety: 0.9930 - prec_Bipolar: 0.9955 - rec_Bipolar: 0.9957 - prec_Depression: 0.9716 - rec_Depression: 0.9665 - prec_Normal: 0.9931 - rec_Normal: 0.9896 - prec_Personality disorder: 0.9977 - rec_Personality disorder: 0.9970 - prec_Stress: 0.9924 - rec_Stress: 0.9931 - prec_Suicidal: 0.9736 - rec_Suicidal: 0.9751 - val_loss: 0.0151 - val_accuracy: 0.9957 - val_prec_Anxiety: 0.9933 - val_rec_Anxiety: 0.9988 - val_prec_Bipolar: 0.9994 - val_rec_Bipolar: 0.9981 - val_prec_Depression: 0.9879 - val_rec_Depression: 0.9910 - val_prec_Normal: 0.9975 - val_rec_Normal: 0.9957 - val_prec_Personality disorder: 1.0000 - val_rec_Personality disorder: 1.0000 - val_prec_Stress: 0.9988 - val_rec_Stress: 0.9976 - val_prec_Suicidal: 0.9957 - val_rec_Suicidal: 0.9877\n",
      "Epoch 10/10\n",
      "2807/2807 [==============================] - 2509s 894ms/step - loss: 0.0384 - accuracy: 0.9885 - prec_Anxiety: 0.9935 - rec_Anxiety: 0.9925 - prec_Bipolar: 0.9958 - rec_Bipolar: 0.9955 - prec_Depression: 0.9757 - rec_Depression: 0.9706 - prec_Normal: 0.9920 - rec_Normal: 0.9897 - prec_Personality disorder: 0.9960 - rec_Personality disorder: 0.9962 - prec_Stress: 0.9917 - rec_Stress: 0.9922 - prec_Suicidal: 0.9786 - rec_Suicidal: 0.9789 - val_loss: 0.0189 - val_accuracy: 0.9961 - val_prec_Anxiety: 0.9974 - val_rec_Anxiety: 0.9949 - val_prec_Bipolar: 0.9982 - val_rec_Bipolar: 1.0000 - val_prec_Depression: 0.9872 - val_rec_Depression: 0.9957 - val_prec_Normal: 0.9994 - val_rec_Normal: 0.9924 - val_prec_Personality disorder: 1.0000 - val_rec_Personality disorder: 1.0000 - val_prec_Stress: 0.9969 - val_rec_Stress: 0.9963 - val_prec_Suicidal: 0.9951 - val_rec_Suicidal: 0.9915\n"
     ]
    }
   ],
   "source": [
    "# Train\n",
    "epochs = 10\n",
    "callbacks = [\n",
    "    tf.keras.callbacks.EarlyStopping(monitor='val_loss', patience=3, restore_best_weights=True),\n",
    "    tf.keras.callbacks.ModelCheckpoint('best_model.h5', monitor='val_loss', save_best_only=True)\n",
    "]\n",
    "hist = model.fit(\n",
    "    train_ds,\n",
    "    validation_data=val_ds,\n",
    "    epochs=epochs,\n",
    "    callbacks=callbacks\n",
    ")"
   ]
  },
  {
   "cell_type": "code",
   "execution_count": 33,
   "id": "7727cee7-e08f-4d9d-9a62-2eb47cd5f0e5",
   "metadata": {
    "execution": {
     "iopub.execute_input": "2025-07-06T12:22:00.794390Z",
     "iopub.status.busy": "2025-07-06T12:22:00.794136Z",
     "iopub.status.idle": "2025-07-06T12:22:00.797909Z",
     "shell.execute_reply": "2025-07-06T12:22:00.797348Z",
     "shell.execute_reply.started": "2025-07-06T12:22:00.794372Z"
    }
   },
   "outputs": [],
   "source": [
    "from sklearn.model_selection import train_test_split\n",
    "from tensorflow.keras.models import load_model"
   ]
  },
  {
   "cell_type": "code",
   "execution_count": 40,
   "id": "fd56a334-4333-40f5-b7c4-6941c6928aff",
   "metadata": {
    "execution": {
     "iopub.execute_input": "2025-07-06T12:26:44.511012Z",
     "iopub.status.busy": "2025-07-06T12:26:44.510765Z",
     "iopub.status.idle": "2025-07-06T12:26:44.564507Z",
     "shell.execute_reply": "2025-07-06T12:26:44.563951Z",
     "shell.execute_reply.started": "2025-07-06T12:26:44.510996Z"
    }
   },
   "outputs": [],
   "source": [
    "from sklearn.model_selection import train_test_split\n",
    "\n",
    "# Re-split df the same way for test set (same stratified logic)\n",
    "train_df, temp_df = train_test_split(df, test_size=0.2, random_state=42, stratify=df['label'])\n",
    "val_df, test_df   = train_test_split(temp_df, test_size=0.5, random_state=42, stratify=temp_df['label'])\n",
    "\n"
   ]
  },
  {
   "cell_type": "code",
   "execution_count": 41,
   "id": "508ea345-3f80-474d-81d2-bd8ba721bac5",
   "metadata": {
    "execution": {
     "iopub.execute_input": "2025-07-06T12:26:53.374935Z",
     "iopub.status.busy": "2025-07-06T12:26:53.374661Z",
     "iopub.status.idle": "2025-07-06T12:27:14.736455Z",
     "shell.execute_reply": "2025-07-06T12:27:14.735846Z",
     "shell.execute_reply.started": "2025-07-06T12:26:53.374914Z"
    }
   },
   "outputs": [],
   "source": [
    "# Tokenize the test_df only\n",
    "enc_test = tokenizer(\n",
    "    test_df['statement'].astype(str).tolist(),\n",
    "    padding='max_length',\n",
    "    truncation=True,\n",
    "    max_length=MAX_LEN,\n",
    "    return_tensors='np'\n",
    ")\n"
   ]
  },
  {
   "cell_type": "code",
   "execution_count": 42,
   "id": "4f56d5ff-a42c-4d34-a0aa-8e12ca1c8bb4",
   "metadata": {
    "execution": {
     "iopub.execute_input": "2025-07-06T12:28:16.263610Z",
     "iopub.status.busy": "2025-07-06T12:28:16.263317Z",
     "iopub.status.idle": "2025-07-06T12:29:54.555219Z",
     "shell.execute_reply": "2025-07-06T12:29:54.554611Z",
     "shell.execute_reply.started": "2025-07-06T12:28:16.263590Z"
    }
   },
   "outputs": [
    {
     "name": "stdout",
     "output_type": "stream",
     "text": [
      "351/351 [==============================] - 98s 279ms/step\n"
     ]
    }
   ],
   "source": [
    "# Run prediction using the in-memory trained model\n",
    "test_inputs = {'input_ids': enc_test['input_ids'], 'attention_mask': enc_test['attention_mask']}\n",
    "probs = model.predict(test_inputs, batch_size=BATCH)\n",
    "y_pred_idx = probs.argmax(axis=1)\n"
   ]
  },
  {
   "cell_type": "code",
   "execution_count": 43,
   "id": "6653d9a3-b2e7-4219-b71e-b7632e2c2251",
   "metadata": {
    "execution": {
     "iopub.execute_input": "2025-07-06T12:30:29.602554Z",
     "iopub.status.busy": "2025-07-06T12:30:29.601983Z",
     "iopub.status.idle": "2025-07-06T12:30:29.608242Z",
     "shell.execute_reply": "2025-07-06T12:30:29.607442Z",
     "shell.execute_reply.started": "2025-07-06T12:30:29.602530Z"
    }
   },
   "outputs": [],
   "source": [
    "# Convert back to label names\n",
    "inv_label_map = {v: k for k, v in label_map.items()}\n",
    "bert_preds = [inv_label_map[i] for i in y_pred_idx]"
   ]
  },
  {
   "cell_type": "code",
   "execution_count": 44,
   "id": "15f56b3d-b531-4777-8972-626b917db25c",
   "metadata": {
    "execution": {
     "iopub.execute_input": "2025-07-06T12:30:35.729135Z",
     "iopub.status.busy": "2025-07-06T12:30:35.728827Z",
     "iopub.status.idle": "2025-07-06T12:30:35.736701Z",
     "shell.execute_reply": "2025-07-06T12:30:35.735992Z",
     "shell.execute_reply.started": "2025-07-06T12:30:35.729089Z"
    }
   },
   "outputs": [],
   "source": [
    "# Create aligned DataFrame\n",
    "df_bert = pd.DataFrame({\n",
    "    'text': test_df['statement'].tolist(),\n",
    "    'true_label': test_df['status'].tolist(),\n",
    "    'bert_pred': bert_preds\n",
    "})"
   ]
  },
  {
   "cell_type": "code",
   "execution_count": 45,
   "id": "9db734f1-72af-4591-9437-9733fd5ec5d5",
   "metadata": {
    "execution": {
     "iopub.execute_input": "2025-07-06T12:30:44.037208Z",
     "iopub.status.busy": "2025-07-06T12:30:44.036893Z",
     "iopub.status.idle": "2025-07-06T12:30:44.269794Z",
     "shell.execute_reply": "2025-07-06T12:30:44.269167Z",
     "shell.execute_reply.started": "2025-07-06T12:30:44.037185Z"
    },
    "scrolled": true
   },
   "outputs": [
    {
     "name": "stdout",
     "output_type": "stream",
     "text": [
      "✅ predictions_bert.csv saved with 11228 rows\n",
      "                                                text  true_label   bert_pred\n",
      "0  I need information. As emotional as I am right...      Stress      Stress\n",
      "1  I'm BURNED OUT... What should I do? So, let me...      Stress      Stress\n",
      "2                boy, it's chilly outside, isn't it?      Normal      Normal\n",
      "3                                     I'm goosebumps      Normal      Normal\n",
      "4  Originally posted on the r/suboxone, I thought...  Depression  Depression\n"
     ]
    }
   ],
   "source": [
    "# Save to CSV\n",
    "df_bert.to_csv('predictions_bert3.csv', index=False)\n",
    "print(\"✅ predictions_bert.csv saved with\", len(df_bert), \"rows\")\n",
    "print(df_bert.head())\n"
   ]
  }
 ],
 "metadata": {
  "kaggle": {
   "accelerator": "nvidiaTeslaT4",
   "dataSources": [
    {
     "datasetId": 7538489,
     "sourceId": 11985715,
     "sourceType": "datasetVersion"
    },
    {
     "datasetId": 5338273,
     "sourceId": 8870083,
     "sourceType": "datasetVersion"
    }
   ],
   "dockerImageVersionId": 31041,
   "isGpuEnabled": true,
   "isInternetEnabled": true,
   "language": "python",
   "sourceType": "notebook"
  },
  "kernelspec": {
   "display_name": "Python 3 (ipykernel)",
   "language": "python",
   "name": "python3"
  },
  "language_info": {
   "codemirror_mode": {
    "name": "ipython",
    "version": 3
   },
   "file_extension": ".py",
   "mimetype": "text/x-python",
   "name": "python",
   "nbconvert_exporter": "python",
   "pygments_lexer": "ipython3",
   "version": "3.11.7"
  }
 },
 "nbformat": 4,
 "nbformat_minor": 5
}
