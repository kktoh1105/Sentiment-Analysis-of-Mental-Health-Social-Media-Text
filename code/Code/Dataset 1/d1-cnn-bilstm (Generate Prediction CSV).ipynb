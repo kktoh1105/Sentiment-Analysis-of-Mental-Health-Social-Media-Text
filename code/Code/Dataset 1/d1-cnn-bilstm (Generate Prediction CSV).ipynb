{
 "cells": [
  {
   "cell_type": "markdown",
   "id": "8ac3dd8c-c64e-4ee9-b206-1cb3fdb51214",
   "metadata": {},
   "source": [
    "# Hybrid Approach (CNN-BiLSTM)"
   ]
  },
  {
   "cell_type": "code",
   "execution_count": 1,
   "id": "ae413028-553e-4ea3-923c-456b04e8364f",
   "metadata": {
    "execution": {
     "iopub.execute_input": "2025-07-06T12:59:27.803563Z",
     "iopub.status.busy": "2025-07-06T12:59:27.803384Z",
     "iopub.status.idle": "2025-07-06T13:00:36.869924Z",
     "shell.execute_reply": "2025-07-06T13:00:36.869367Z",
     "shell.execute_reply.started": "2025-07-06T12:59:27.803548Z"
    }
   },
   "outputs": [
    {
     "name": "stderr",
     "output_type": "stream",
     "text": [
      "[nltk_data] Downloading package stopwords to /usr/share/nltk_data...\n",
      "[nltk_data]   Package stopwords is already up-to-date!\n",
      "[nltk_data] Downloading package wordnet to /usr/share/nltk_data...\n",
      "[nltk_data]   Package wordnet is already up-to-date!\n",
      "2025-07-06 12:59:33.821530: E external/local_xla/xla/stream_executor/cuda/cuda_fft.cc:477] Unable to register cuFFT factory: Attempting to register factory for plugin cuFFT when one has already been registered\n",
      "WARNING: All log messages before absl::InitializeLog() is called are written to STDERR\n",
      "E0000 00:00:1751806774.059676      35 cuda_dnn.cc:8310] Unable to register cuDNN factory: Attempting to register factory for plugin cuDNN when one has already been registered\n",
      "E0000 00:00:1751806774.130457      35 cuda_blas.cc:1418] Unable to register cuBLAS factory: Attempting to register factory for plugin cuBLAS when one has already been registered\n"
     ]
    }
   ],
   "source": [
    "import os\n",
    "import pandas as pd\n",
    "import re\n",
    "import numpy as np\n",
    "import matplotlib.pyplot as plt\n",
    "import seaborn as sns\n",
    "import nltk\n",
    "nltk.download('stopwords')\n",
    "nltk.download('wordnet')\n",
    "from nltk.corpus import stopwords\n",
    "from nltk.stem import WordNetLemmatizer\n",
    "from sklearn.utils import resample\n",
    "from sklearn.model_selection import train_test_split\n",
    "from sklearn.preprocessing import LabelEncoder\n",
    "from tensorflow.keras.preprocessing.text import Tokenizer\n",
    "from tensorflow.keras.preprocessing.sequence import pad_sequences\n",
    "from tensorflow.keras.utils import to_categorical\n",
    "import tensorflow as tf\n",
    "from tensorflow.keras.layers import (Input, Embedding, SpatialDropout1D, Conv1D,\n",
    "                                     BatchNormalization, Dropout, GlobalMaxPooling1D,\n",
    "                                     Bidirectional, LSTM, Dense, concatenate)\n",
    "from tensorflow.keras.models import Model\n",
    "from tensorflow.keras.callbacks import EarlyStopping, ReduceLROnPlateau\n",
    "from gensim.downloader import load as gensim_load\n",
    "from sklearn.metrics import confusion_matrix, classification_report\n",
    "from wordcloud import WordCloud"
   ]
  },
  {
   "cell_type": "code",
   "execution_count": 2,
   "id": "53c5699b-af12-4c14-b5d7-158263d86a89",
   "metadata": {
    "execution": {
     "iopub.execute_input": "2025-07-06T13:00:36.871030Z",
     "iopub.status.busy": "2025-07-06T13:00:36.870622Z",
     "iopub.status.idle": "2025-07-06T13:00:37.530455Z",
     "shell.execute_reply": "2025-07-06T13:00:37.529899Z",
     "shell.execute_reply.started": "2025-07-06T13:00:36.871013Z"
    }
   },
   "outputs": [],
   "source": [
    "# Load the dataset\n",
    "df = pd.read_csv(\"/kaggle/input/dataset1/D1.csv\")"
   ]
  },
  {
   "cell_type": "code",
   "execution_count": 3,
   "id": "1d368690-e96d-4f8d-912e-c16fc85158ca",
   "metadata": {
    "execution": {
     "iopub.execute_input": "2025-07-06T13:01:31.291372Z",
     "iopub.status.busy": "2025-07-06T13:01:31.290691Z",
     "iopub.status.idle": "2025-07-06T13:01:31.311882Z",
     "shell.execute_reply": "2025-07-06T13:01:31.310919Z",
     "shell.execute_reply.started": "2025-07-06T13:01:31.291331Z"
    }
   },
   "outputs": [],
   "source": [
    "# Drop the unnecessary column if it exists\n",
    "if 'Unnamed: 0' in df.columns:\n",
    "    df.drop('Unnamed: 0', axis=1, inplace=True)\n"
   ]
  },
  {
   "cell_type": "code",
   "execution_count": 4,
   "id": "2e425121-d2a3-4c26-89fb-61bb9a7a5205",
   "metadata": {
    "execution": {
     "iopub.execute_input": "2025-07-06T13:01:33.201545Z",
     "iopub.status.busy": "2025-07-06T13:01:33.201281Z",
     "iopub.status.idle": "2025-07-06T13:01:33.218593Z",
     "shell.execute_reply": "2025-07-06T13:01:33.217980Z",
     "shell.execute_reply.started": "2025-07-06T13:01:33.201524Z"
    }
   },
   "outputs": [
    {
     "name": "stdout",
     "output_type": "stream",
     "text": [
      "\n",
      "Shape after dropping missing values: (52681, 2)\n"
     ]
    }
   ],
   "source": [
    "# Drop rows with missing values and show new shape\n",
    "df.dropna(inplace=True)\n",
    "print(\"\\nShape after dropping missing values:\", df.shape)"
   ]
  },
  {
   "cell_type": "code",
   "execution_count": 5,
   "id": "715e5eb4-b394-4350-8413-c6a25ba53fa3",
   "metadata": {
    "execution": {
     "iopub.execute_input": "2025-07-06T13:01:34.989501Z",
     "iopub.status.busy": "2025-07-06T13:01:34.989245Z",
     "iopub.status.idle": "2025-07-06T13:01:34.999991Z",
     "shell.execute_reply": "2025-07-06T13:01:34.999415Z",
     "shell.execute_reply.started": "2025-07-06T13:01:34.989482Z"
    }
   },
   "outputs": [
    {
     "name": "stdout",
     "output_type": "stream",
     "text": [
      "\n",
      "Status Value Counts before resampling:\n",
      "status\n",
      "Normal                  16343\n",
      "Depression              15404\n",
      "Suicidal                10652\n",
      "Anxiety                  3841\n",
      "Bipolar                  2777\n",
      "Stress                   2587\n",
      "Personality disorder     1077\n",
      "Name: count, dtype: int64\n"
     ]
    }
   ],
   "source": [
    "# Check distribution of status before resampling\n",
    "print(\"\\nStatus Value Counts before resampling:\")\n",
    "print(df['status'].value_counts())"
   ]
  },
  {
   "cell_type": "code",
   "execution_count": 6,
   "id": "ac43edbb-30a9-4432-9da0-d4d873b9af12",
   "metadata": {
    "execution": {
     "iopub.execute_input": "2025-07-06T13:01:36.721602Z",
     "iopub.status.busy": "2025-07-06T13:01:36.721325Z",
     "iopub.status.idle": "2025-07-06T13:01:36.792601Z",
     "shell.execute_reply": "2025-07-06T13:01:36.791813Z",
     "shell.execute_reply.started": "2025-07-06T13:01:36.721579Z"
    }
   },
   "outputs": [
    {
     "name": "stdout",
     "output_type": "stream",
     "text": [
      "Value counts after resampling:\n",
      "status\n",
      "Anxiety                 16343\n",
      "Normal                  16343\n",
      "Depression              16343\n",
      "Suicidal                16343\n",
      "Stress                  16343\n",
      "Bipolar                 16343\n",
      "Personality disorder    16343\n",
      "Name: count, dtype: int64\n"
     ]
    }
   ],
   "source": [
    "# Data Resampling for Class Balance\n",
    "def resample_data(df):\n",
    "    max_count = df['status'].value_counts().max()\n",
    "    df_resampled = pd.DataFrame()\n",
    "    for status in df['status'].unique():\n",
    "        df_class = df[df['status'] == status]\n",
    "        if len(df_class) < max_count:\n",
    "            df_class_resampled = resample(df_class, replace=True, n_samples=max_count, random_state=42)\n",
    "            df_resampled = pd.concat([df_resampled, df_class_resampled])\n",
    "        else:\n",
    "            df_resampled = pd.concat([df_resampled, df_class])\n",
    "    return df_resampled\n",
    "\n",
    "df = resample_data(df)\n",
    "print(\"Value counts after resampling:\")\n",
    "print(df['status'].value_counts())"
   ]
  },
  {
   "cell_type": "code",
   "execution_count": 7,
   "id": "7f741a26-4fb3-41ef-95b1-94e80ea112e6",
   "metadata": {
    "execution": {
     "iopub.execute_input": "2025-07-06T13:01:39.241248Z",
     "iopub.status.busy": "2025-07-06T13:01:39.240592Z",
     "iopub.status.idle": "2025-07-06T13:02:08.745145Z",
     "shell.execute_reply": "2025-07-06T13:02:08.744256Z",
     "shell.execute_reply.started": "2025-07-06T13:01:39.241224Z"
    }
   },
   "outputs": [
    {
     "name": "stdout",
     "output_type": "stream",
     "text": [
      "\n",
      "Sample preprocessed text:\n",
      "52349    must find something wrong relationship girlfri...\n",
      "52697    water slide going sound stupid lol basically g...\n",
      "34039    insomnia last month suddenly developed worst c...\n",
      "34473    tired wasting money time know nothing wrong im...\n",
      "34309    head nodding tic cause long term damage hey iv...\n",
      "Name: statement, dtype: object\n"
     ]
    }
   ],
   "source": [
    "# Text Preprocessing\n",
    "stop_words = set(stopwords.words('english'))\n",
    "lemmatizer = WordNetLemmatizer()\n",
    "\n",
    "def preprocess_text(text):\n",
    "    text = re.sub(r'[^a-zA-Z0-9\\s]', '', text.lower())\n",
    "    tokens = text.split()\n",
    "    tokens = [lemmatizer.lemmatize(word) for word in tokens if word not in stop_words]\n",
    "    return \" \".join(tokens)\n",
    "\n",
    "df['statement'] = df['statement'].apply(preprocess_text)\n",
    "print(\"\\nSample preprocessed text:\")\n",
    "print(df['statement'].head())\n"
   ]
  },
  {
   "cell_type": "code",
   "execution_count": 8,
   "id": "4e705eba-1b25-4ddc-98c7-c793a29468f4",
   "metadata": {
    "execution": {
     "iopub.execute_input": "2025-07-06T13:02:26.437202Z",
     "iopub.status.busy": "2025-07-06T13:02:26.436885Z",
     "iopub.status.idle": "2025-07-06T13:02:26.486556Z",
     "shell.execute_reply": "2025-07-06T13:02:26.485826Z",
     "shell.execute_reply.started": "2025-07-06T13:02:26.437177Z"
    }
   },
   "outputs": [
    {
     "name": "stdout",
     "output_type": "stream",
     "text": [
      "Training set shape: (91520,) (91520, 7)\n",
      "Testing set shape: (22881,) (22881, 7)\n"
     ]
    }
   ],
   "source": [
    "# Splitting Data and Encoding Labels\n",
    "X = df['statement'].values\n",
    "y = df['status'].values\n",
    "\n",
    "label_encoder = LabelEncoder()\n",
    "y_encoded = label_encoder.fit_transform(y)\n",
    "y_categorical = to_categorical(y_encoded)\n",
    "\n",
    "X_train, X_test, y_train, y_test = train_test_split(X, y_categorical, test_size=0.2, random_state=42)\n",
    "print(\"Training set shape:\", X_train.shape, y_train.shape)\n",
    "print(\"Testing set shape:\", X_test.shape, y_test.shape)"
   ]
  },
  {
   "cell_type": "code",
   "execution_count": 11,
   "id": "fa4d8a0f-bee2-44ac-bb57-4ef03d2a13e1",
   "metadata": {
    "execution": {
     "iopub.execute_input": "2025-07-06T13:18:13.887666Z",
     "iopub.status.busy": "2025-07-06T13:18:13.887371Z",
     "iopub.status.idle": "2025-07-06T13:18:20.858965Z",
     "shell.execute_reply": "2025-07-06T13:18:20.858312Z",
     "shell.execute_reply.started": "2025-07-06T13:18:13.887644Z"
    }
   },
   "outputs": [
    {
     "name": "stdout",
     "output_type": "stream",
     "text": [
      "Padded Training Data Shape: (91520, 100)\n",
      "Padded Testing Data Shape: (22881, 100)\n"
     ]
    }
   ],
   "source": [
    "# Tokenization and Padding\n",
    "max_words = 50000\n",
    "tokenizer = Tokenizer(num_words=max_words, oov_token=\"<OOV>\")\n",
    "tokenizer.fit_on_texts(X_train)\n",
    "\n",
    "X_train_seq = tokenizer.texts_to_sequences(X_train)\n",
    "X_test_seq = tokenizer.texts_to_sequences(X_test)\n",
    "\n",
    "max_sequence_length = 100\n",
    "X_train_padded = pad_sequences(X_train_seq, maxlen=max_sequence_length, padding='post', truncating='post')\n",
    "X_test_padded = pad_sequences(X_test_seq, maxlen=max_sequence_length, padding='post', truncating='post')\n",
    "print(\"Padded Training Data Shape:\", X_train_padded.shape)\n",
    "print(\"Padded Testing Data Shape:\", X_test_padded.shape)"
   ]
  },
  {
   "cell_type": "code",
   "execution_count": 12,
   "id": "9555a14e-10ab-4221-bef5-0c709d087cf5",
   "metadata": {
    "execution": {
     "iopub.execute_input": "2025-07-06T13:18:59.320815Z",
     "iopub.status.busy": "2025-07-06T13:18:59.320552Z",
     "iopub.status.idle": "2025-07-06T13:19:41.943787Z",
     "shell.execute_reply": "2025-07-06T13:19:41.943125Z",
     "shell.execute_reply.started": "2025-07-06T13:18:59.320796Z"
    }
   },
   "outputs": [
    {
     "name": "stdout",
     "output_type": "stream",
     "text": [
      "Downloading the pre-trained Google News Word2Vec model. This may take a while...\n",
      "Download complete. Embedding dimension: 300\n",
      "Found embeddings for 26005 out of 50000 words.\n"
     ]
    }
   ],
   "source": [
    "# Load Pre-trained Word2Vec and Build Embedding Matrix\n",
    "print(\"Downloading the pre-trained Google News Word2Vec model. This may take a while...\")\n",
    "word2vec_model = gensim_load(\"word2vec-google-news-300\")\n",
    "embedding_dim = word2vec_model.vector_size  \n",
    "print(\"Download complete. Embedding dimension:\", embedding_dim)\n",
    "\n",
    "word_index = tokenizer.word_index\n",
    "num_words = min(max_words, len(word_index) + 1)\n",
    "embedding_matrix = np.zeros((num_words, embedding_dim))\n",
    "found_count = 0\n",
    "\n",
    "for word, i in word_index.items():\n",
    "    if i >= max_words:\n",
    "        continue\n",
    "    if word in word2vec_model:\n",
    "        embedding_matrix[i] = word2vec_model[word]\n",
    "        found_count += 1\n",
    "    else:\n",
    "        # Initialize missing words with random vectors\n",
    "        embedding_matrix[i] = np.random.normal(scale=0.6, size=(embedding_dim,))\n",
    "\n",
    "print(f\"Found embeddings for {found_count} out of {num_words} words.\")\n"
   ]
  },
  {
   "cell_type": "code",
   "execution_count": 13,
   "id": "000a6a86-9acc-4b95-ab2c-500d4296338c",
   "metadata": {
    "execution": {
     "iopub.execute_input": "2025-07-06T13:19:54.667497Z",
     "iopub.status.busy": "2025-07-06T13:19:54.667138Z",
     "iopub.status.idle": "2025-07-06T13:19:58.476062Z",
     "shell.execute_reply": "2025-07-06T13:19:58.475290Z",
     "shell.execute_reply.started": "2025-07-06T13:19:54.667474Z"
    }
   },
   "outputs": [
    {
     "name": "stderr",
     "output_type": "stream",
     "text": [
      "/usr/local/lib/python3.11/dist-packages/keras/src/layers/core/embedding.py:90: UserWarning: Argument `input_length` is deprecated. Just remove it.\n",
      "  warnings.warn(\n",
      "I0000 00:00:1751807996.578452      35 gpu_device.cc:2022] Created device /job:localhost/replica:0/task:0/device:GPU:0 with 13942 MB memory:  -> device: 0, name: Tesla T4, pci bus id: 0000:00:04.0, compute capability: 7.5\n",
      "I0000 00:00:1751807996.579150      35 gpu_device.cc:2022] Created device /job:localhost/replica:0/task:0/device:GPU:1 with 13942 MB memory:  -> device: 1, name: Tesla T4, pci bus id: 0000:00:05.0, compute capability: 7.5\n"
     ]
    },
    {
     "data": {
      "text/html": [
       "<pre style=\"white-space:pre;overflow-x:auto;line-height:normal;font-family:Menlo,'DejaVu Sans Mono',consolas,'Courier New',monospace\"><span style=\"font-weight: bold\">Model: \"functional\"</span>\n",
       "</pre>\n"
      ],
      "text/plain": [
       "\u001b[1mModel: \"functional\"\u001b[0m\n"
      ]
     },
     "metadata": {},
     "output_type": "display_data"
    },
    {
     "data": {
      "text/html": [
       "<pre style=\"white-space:pre;overflow-x:auto;line-height:normal;font-family:Menlo,'DejaVu Sans Mono',consolas,'Courier New',monospace\">┏━━━━━━━━━━━━━━━━━━━━━━━━━━━┳━━━━━━━━━━━━━━━━━━━━━━━━┳━━━━━━━━━━━━━━━━┳━━━━━━━━━━━━━━━━━━━━━━━━┓\n",
       "┃<span style=\"font-weight: bold\"> Layer (type)              </span>┃<span style=\"font-weight: bold\"> Output Shape           </span>┃<span style=\"font-weight: bold\">        Param # </span>┃<span style=\"font-weight: bold\"> Connected to           </span>┃\n",
       "┡━━━━━━━━━━━━━━━━━━━━━━━━━━━╇━━━━━━━━━━━━━━━━━━━━━━━━╇━━━━━━━━━━━━━━━━╇━━━━━━━━━━━━━━━━━━━━━━━━┩\n",
       "│ input_text (<span style=\"color: #0087ff; text-decoration-color: #0087ff\">InputLayer</span>)   │ (<span style=\"color: #00d7ff; text-decoration-color: #00d7ff\">None</span>, <span style=\"color: #00af00; text-decoration-color: #00af00\">100</span>)            │              <span style=\"color: #00af00; text-decoration-color: #00af00\">0</span> │ -                      │\n",
       "├───────────────────────────┼────────────────────────┼────────────────┼────────────────────────┤\n",
       "│ embedding (<span style=\"color: #0087ff; text-decoration-color: #0087ff\">Embedding</span>)     │ (<span style=\"color: #00d7ff; text-decoration-color: #00d7ff\">None</span>, <span style=\"color: #00af00; text-decoration-color: #00af00\">100</span>, <span style=\"color: #00af00; text-decoration-color: #00af00\">300</span>)       │     <span style=\"color: #00af00; text-decoration-color: #00af00\">15,000,000</span> │ input_text[<span style=\"color: #00af00; text-decoration-color: #00af00\">0</span>][<span style=\"color: #00af00; text-decoration-color: #00af00\">0</span>]       │\n",
       "├───────────────────────────┼────────────────────────┼────────────────┼────────────────────────┤\n",
       "│ spatial_dropout           │ (<span style=\"color: #00d7ff; text-decoration-color: #00d7ff\">None</span>, <span style=\"color: #00af00; text-decoration-color: #00af00\">100</span>, <span style=\"color: #00af00; text-decoration-color: #00af00\">300</span>)       │              <span style=\"color: #00af00; text-decoration-color: #00af00\">0</span> │ embedding[<span style=\"color: #00af00; text-decoration-color: #00af00\">0</span>][<span style=\"color: #00af00; text-decoration-color: #00af00\">0</span>]        │\n",
       "│ (<span style=\"color: #0087ff; text-decoration-color: #0087ff\">SpatialDropout1D</span>)        │                        │                │                        │\n",
       "├───────────────────────────┼────────────────────────┼────────────────┼────────────────────────┤\n",
       "│ conv1_3 (<span style=\"color: #0087ff; text-decoration-color: #0087ff\">Conv1D</span>)          │ (<span style=\"color: #00d7ff; text-decoration-color: #00d7ff\">None</span>, <span style=\"color: #00af00; text-decoration-color: #00af00\">100</span>, <span style=\"color: #00af00; text-decoration-color: #00af00\">256</span>)       │        <span style=\"color: #00af00; text-decoration-color: #00af00\">230,656</span> │ spatial_dropout[<span style=\"color: #00af00; text-decoration-color: #00af00\">0</span>][<span style=\"color: #00af00; text-decoration-color: #00af00\">0</span>]  │\n",
       "├───────────────────────────┼────────────────────────┼────────────────┼────────────────────────┤\n",
       "│ bn1 (<span style=\"color: #0087ff; text-decoration-color: #0087ff\">BatchNormalization</span>)  │ (<span style=\"color: #00d7ff; text-decoration-color: #00d7ff\">None</span>, <span style=\"color: #00af00; text-decoration-color: #00af00\">100</span>, <span style=\"color: #00af00; text-decoration-color: #00af00\">256</span>)       │          <span style=\"color: #00af00; text-decoration-color: #00af00\">1,024</span> │ conv1_3[<span style=\"color: #00af00; text-decoration-color: #00af00\">0</span>][<span style=\"color: #00af00; text-decoration-color: #00af00\">0</span>]          │\n",
       "├───────────────────────────┼────────────────────────┼────────────────┼────────────────────────┤\n",
       "│ conv2_4 (<span style=\"color: #0087ff; text-decoration-color: #0087ff\">Conv1D</span>)          │ (<span style=\"color: #00d7ff; text-decoration-color: #00d7ff\">None</span>, <span style=\"color: #00af00; text-decoration-color: #00af00\">100</span>, <span style=\"color: #00af00; text-decoration-color: #00af00\">256</span>)       │        <span style=\"color: #00af00; text-decoration-color: #00af00\">262,400</span> │ bn1[<span style=\"color: #00af00; text-decoration-color: #00af00\">0</span>][<span style=\"color: #00af00; text-decoration-color: #00af00\">0</span>]              │\n",
       "├───────────────────────────┼────────────────────────┼────────────────┼────────────────────────┤\n",
       "│ bn2 (<span style=\"color: #0087ff; text-decoration-color: #0087ff\">BatchNormalization</span>)  │ (<span style=\"color: #00d7ff; text-decoration-color: #00d7ff\">None</span>, <span style=\"color: #00af00; text-decoration-color: #00af00\">100</span>, <span style=\"color: #00af00; text-decoration-color: #00af00\">256</span>)       │          <span style=\"color: #00af00; text-decoration-color: #00af00\">1,024</span> │ conv2_4[<span style=\"color: #00af00; text-decoration-color: #00af00\">0</span>][<span style=\"color: #00af00; text-decoration-color: #00af00\">0</span>]          │\n",
       "├───────────────────────────┼────────────────────────┼────────────────┼────────────────────────┤\n",
       "│ conv3_5 (<span style=\"color: #0087ff; text-decoration-color: #0087ff\">Conv1D</span>)          │ (<span style=\"color: #00d7ff; text-decoration-color: #00d7ff\">None</span>, <span style=\"color: #00af00; text-decoration-color: #00af00\">100</span>, <span style=\"color: #00af00; text-decoration-color: #00af00\">256</span>)       │        <span style=\"color: #00af00; text-decoration-color: #00af00\">327,936</span> │ bn2[<span style=\"color: #00af00; text-decoration-color: #00af00\">0</span>][<span style=\"color: #00af00; text-decoration-color: #00af00\">0</span>]              │\n",
       "├───────────────────────────┼────────────────────────┼────────────────┼────────────────────────┤\n",
       "│ bn3 (<span style=\"color: #0087ff; text-decoration-color: #0087ff\">BatchNormalization</span>)  │ (<span style=\"color: #00d7ff; text-decoration-color: #00d7ff\">None</span>, <span style=\"color: #00af00; text-decoration-color: #00af00\">100</span>, <span style=\"color: #00af00; text-decoration-color: #00af00\">256</span>)       │          <span style=\"color: #00af00; text-decoration-color: #00af00\">1,024</span> │ conv3_5[<span style=\"color: #00af00; text-decoration-color: #00af00\">0</span>][<span style=\"color: #00af00; text-decoration-color: #00af00\">0</span>]          │\n",
       "├───────────────────────────┼────────────────────────┼────────────────┼────────────────────────┤\n",
       "│ bilstm (<span style=\"color: #0087ff; text-decoration-color: #0087ff\">Bidirectional</span>)    │ (<span style=\"color: #00d7ff; text-decoration-color: #00d7ff\">None</span>, <span style=\"color: #00af00; text-decoration-color: #00af00\">256</span>)            │        <span style=\"color: #00af00; text-decoration-color: #00af00\">439,296</span> │ spatial_dropout[<span style=\"color: #00af00; text-decoration-color: #00af00\">0</span>][<span style=\"color: #00af00; text-decoration-color: #00af00\">0</span>]  │\n",
       "├───────────────────────────┼────────────────────────┼────────────────┼────────────────────────┤\n",
       "│ global_max_pool           │ (<span style=\"color: #00d7ff; text-decoration-color: #00d7ff\">None</span>, <span style=\"color: #00af00; text-decoration-color: #00af00\">256</span>)            │              <span style=\"color: #00af00; text-decoration-color: #00af00\">0</span> │ bn3[<span style=\"color: #00af00; text-decoration-color: #00af00\">0</span>][<span style=\"color: #00af00; text-decoration-color: #00af00\">0</span>]              │\n",
       "│ (<span style=\"color: #0087ff; text-decoration-color: #0087ff\">GlobalMaxPooling1D</span>)      │                        │                │                        │\n",
       "├───────────────────────────┼────────────────────────┼────────────────┼────────────────────────┤\n",
       "│ drop_bilstm (<span style=\"color: #0087ff; text-decoration-color: #0087ff\">Dropout</span>)     │ (<span style=\"color: #00d7ff; text-decoration-color: #00d7ff\">None</span>, <span style=\"color: #00af00; text-decoration-color: #00af00\">256</span>)            │              <span style=\"color: #00af00; text-decoration-color: #00af00\">0</span> │ bilstm[<span style=\"color: #00af00; text-decoration-color: #00af00\">0</span>][<span style=\"color: #00af00; text-decoration-color: #00af00\">0</span>]           │\n",
       "├───────────────────────────┼────────────────────────┼────────────────┼────────────────────────┤\n",
       "│ concatenate (<span style=\"color: #0087ff; text-decoration-color: #0087ff\">Concatenate</span>) │ (<span style=\"color: #00d7ff; text-decoration-color: #00d7ff\">None</span>, <span style=\"color: #00af00; text-decoration-color: #00af00\">512</span>)            │              <span style=\"color: #00af00; text-decoration-color: #00af00\">0</span> │ global_max_pool[<span style=\"color: #00af00; text-decoration-color: #00af00\">0</span>][<span style=\"color: #00af00; text-decoration-color: #00af00\">0</span>], │\n",
       "│                           │                        │                │ drop_bilstm[<span style=\"color: #00af00; text-decoration-color: #00af00\">0</span>][<span style=\"color: #00af00; text-decoration-color: #00af00\">0</span>]      │\n",
       "├───────────────────────────┼────────────────────────┼────────────────┼────────────────────────┤\n",
       "│ fc1 (<span style=\"color: #0087ff; text-decoration-color: #0087ff\">Dense</span>)               │ (<span style=\"color: #00d7ff; text-decoration-color: #00d7ff\">None</span>, <span style=\"color: #00af00; text-decoration-color: #00af00\">128</span>)            │         <span style=\"color: #00af00; text-decoration-color: #00af00\">65,664</span> │ concatenate[<span style=\"color: #00af00; text-decoration-color: #00af00\">0</span>][<span style=\"color: #00af00; text-decoration-color: #00af00\">0</span>]      │\n",
       "├───────────────────────────┼────────────────────────┼────────────────┼────────────────────────┤\n",
       "│ bn_fc1                    │ (<span style=\"color: #00d7ff; text-decoration-color: #00d7ff\">None</span>, <span style=\"color: #00af00; text-decoration-color: #00af00\">128</span>)            │            <span style=\"color: #00af00; text-decoration-color: #00af00\">512</span> │ fc1[<span style=\"color: #00af00; text-decoration-color: #00af00\">0</span>][<span style=\"color: #00af00; text-decoration-color: #00af00\">0</span>]              │\n",
       "│ (<span style=\"color: #0087ff; text-decoration-color: #0087ff\">BatchNormalization</span>)      │                        │                │                        │\n",
       "├───────────────────────────┼────────────────────────┼────────────────┼────────────────────────┤\n",
       "│ drop_fc1 (<span style=\"color: #0087ff; text-decoration-color: #0087ff\">Dropout</span>)        │ (<span style=\"color: #00d7ff; text-decoration-color: #00d7ff\">None</span>, <span style=\"color: #00af00; text-decoration-color: #00af00\">128</span>)            │              <span style=\"color: #00af00; text-decoration-color: #00af00\">0</span> │ bn_fc1[<span style=\"color: #00af00; text-decoration-color: #00af00\">0</span>][<span style=\"color: #00af00; text-decoration-color: #00af00\">0</span>]           │\n",
       "├───────────────────────────┼────────────────────────┼────────────────┼────────────────────────┤\n",
       "│ output (<span style=\"color: #0087ff; text-decoration-color: #0087ff\">Dense</span>)            │ (<span style=\"color: #00d7ff; text-decoration-color: #00d7ff\">None</span>, <span style=\"color: #00af00; text-decoration-color: #00af00\">7</span>)              │            <span style=\"color: #00af00; text-decoration-color: #00af00\">903</span> │ drop_fc1[<span style=\"color: #00af00; text-decoration-color: #00af00\">0</span>][<span style=\"color: #00af00; text-decoration-color: #00af00\">0</span>]         │\n",
       "└───────────────────────────┴────────────────────────┴────────────────┴────────────────────────┘\n",
       "</pre>\n"
      ],
      "text/plain": [
       "┏━━━━━━━━━━━━━━━━━━━━━━━━━━━┳━━━━━━━━━━━━━━━━━━━━━━━━┳━━━━━━━━━━━━━━━━┳━━━━━━━━━━━━━━━━━━━━━━━━┓\n",
       "┃\u001b[1m \u001b[0m\u001b[1mLayer (type)             \u001b[0m\u001b[1m \u001b[0m┃\u001b[1m \u001b[0m\u001b[1mOutput Shape          \u001b[0m\u001b[1m \u001b[0m┃\u001b[1m \u001b[0m\u001b[1m       Param #\u001b[0m\u001b[1m \u001b[0m┃\u001b[1m \u001b[0m\u001b[1mConnected to          \u001b[0m\u001b[1m \u001b[0m┃\n",
       "┡━━━━━━━━━━━━━━━━━━━━━━━━━━━╇━━━━━━━━━━━━━━━━━━━━━━━━╇━━━━━━━━━━━━━━━━╇━━━━━━━━━━━━━━━━━━━━━━━━┩\n",
       "│ input_text (\u001b[38;5;33mInputLayer\u001b[0m)   │ (\u001b[38;5;45mNone\u001b[0m, \u001b[38;5;34m100\u001b[0m)            │              \u001b[38;5;34m0\u001b[0m │ -                      │\n",
       "├───────────────────────────┼────────────────────────┼────────────────┼────────────────────────┤\n",
       "│ embedding (\u001b[38;5;33mEmbedding\u001b[0m)     │ (\u001b[38;5;45mNone\u001b[0m, \u001b[38;5;34m100\u001b[0m, \u001b[38;5;34m300\u001b[0m)       │     \u001b[38;5;34m15,000,000\u001b[0m │ input_text[\u001b[38;5;34m0\u001b[0m][\u001b[38;5;34m0\u001b[0m]       │\n",
       "├───────────────────────────┼────────────────────────┼────────────────┼────────────────────────┤\n",
       "│ spatial_dropout           │ (\u001b[38;5;45mNone\u001b[0m, \u001b[38;5;34m100\u001b[0m, \u001b[38;5;34m300\u001b[0m)       │              \u001b[38;5;34m0\u001b[0m │ embedding[\u001b[38;5;34m0\u001b[0m][\u001b[38;5;34m0\u001b[0m]        │\n",
       "│ (\u001b[38;5;33mSpatialDropout1D\u001b[0m)        │                        │                │                        │\n",
       "├───────────────────────────┼────────────────────────┼────────────────┼────────────────────────┤\n",
       "│ conv1_3 (\u001b[38;5;33mConv1D\u001b[0m)          │ (\u001b[38;5;45mNone\u001b[0m, \u001b[38;5;34m100\u001b[0m, \u001b[38;5;34m256\u001b[0m)       │        \u001b[38;5;34m230,656\u001b[0m │ spatial_dropout[\u001b[38;5;34m0\u001b[0m][\u001b[38;5;34m0\u001b[0m]  │\n",
       "├───────────────────────────┼────────────────────────┼────────────────┼────────────────────────┤\n",
       "│ bn1 (\u001b[38;5;33mBatchNormalization\u001b[0m)  │ (\u001b[38;5;45mNone\u001b[0m, \u001b[38;5;34m100\u001b[0m, \u001b[38;5;34m256\u001b[0m)       │          \u001b[38;5;34m1,024\u001b[0m │ conv1_3[\u001b[38;5;34m0\u001b[0m][\u001b[38;5;34m0\u001b[0m]          │\n",
       "├───────────────────────────┼────────────────────────┼────────────────┼────────────────────────┤\n",
       "│ conv2_4 (\u001b[38;5;33mConv1D\u001b[0m)          │ (\u001b[38;5;45mNone\u001b[0m, \u001b[38;5;34m100\u001b[0m, \u001b[38;5;34m256\u001b[0m)       │        \u001b[38;5;34m262,400\u001b[0m │ bn1[\u001b[38;5;34m0\u001b[0m][\u001b[38;5;34m0\u001b[0m]              │\n",
       "├───────────────────────────┼────────────────────────┼────────────────┼────────────────────────┤\n",
       "│ bn2 (\u001b[38;5;33mBatchNormalization\u001b[0m)  │ (\u001b[38;5;45mNone\u001b[0m, \u001b[38;5;34m100\u001b[0m, \u001b[38;5;34m256\u001b[0m)       │          \u001b[38;5;34m1,024\u001b[0m │ conv2_4[\u001b[38;5;34m0\u001b[0m][\u001b[38;5;34m0\u001b[0m]          │\n",
       "├───────────────────────────┼────────────────────────┼────────────────┼────────────────────────┤\n",
       "│ conv3_5 (\u001b[38;5;33mConv1D\u001b[0m)          │ (\u001b[38;5;45mNone\u001b[0m, \u001b[38;5;34m100\u001b[0m, \u001b[38;5;34m256\u001b[0m)       │        \u001b[38;5;34m327,936\u001b[0m │ bn2[\u001b[38;5;34m0\u001b[0m][\u001b[38;5;34m0\u001b[0m]              │\n",
       "├───────────────────────────┼────────────────────────┼────────────────┼────────────────────────┤\n",
       "│ bn3 (\u001b[38;5;33mBatchNormalization\u001b[0m)  │ (\u001b[38;5;45mNone\u001b[0m, \u001b[38;5;34m100\u001b[0m, \u001b[38;5;34m256\u001b[0m)       │          \u001b[38;5;34m1,024\u001b[0m │ conv3_5[\u001b[38;5;34m0\u001b[0m][\u001b[38;5;34m0\u001b[0m]          │\n",
       "├───────────────────────────┼────────────────────────┼────────────────┼────────────────────────┤\n",
       "│ bilstm (\u001b[38;5;33mBidirectional\u001b[0m)    │ (\u001b[38;5;45mNone\u001b[0m, \u001b[38;5;34m256\u001b[0m)            │        \u001b[38;5;34m439,296\u001b[0m │ spatial_dropout[\u001b[38;5;34m0\u001b[0m][\u001b[38;5;34m0\u001b[0m]  │\n",
       "├───────────────────────────┼────────────────────────┼────────────────┼────────────────────────┤\n",
       "│ global_max_pool           │ (\u001b[38;5;45mNone\u001b[0m, \u001b[38;5;34m256\u001b[0m)            │              \u001b[38;5;34m0\u001b[0m │ bn3[\u001b[38;5;34m0\u001b[0m][\u001b[38;5;34m0\u001b[0m]              │\n",
       "│ (\u001b[38;5;33mGlobalMaxPooling1D\u001b[0m)      │                        │                │                        │\n",
       "├───────────────────────────┼────────────────────────┼────────────────┼────────────────────────┤\n",
       "│ drop_bilstm (\u001b[38;5;33mDropout\u001b[0m)     │ (\u001b[38;5;45mNone\u001b[0m, \u001b[38;5;34m256\u001b[0m)            │              \u001b[38;5;34m0\u001b[0m │ bilstm[\u001b[38;5;34m0\u001b[0m][\u001b[38;5;34m0\u001b[0m]           │\n",
       "├───────────────────────────┼────────────────────────┼────────────────┼────────────────────────┤\n",
       "│ concatenate (\u001b[38;5;33mConcatenate\u001b[0m) │ (\u001b[38;5;45mNone\u001b[0m, \u001b[38;5;34m512\u001b[0m)            │              \u001b[38;5;34m0\u001b[0m │ global_max_pool[\u001b[38;5;34m0\u001b[0m][\u001b[38;5;34m0\u001b[0m], │\n",
       "│                           │                        │                │ drop_bilstm[\u001b[38;5;34m0\u001b[0m][\u001b[38;5;34m0\u001b[0m]      │\n",
       "├───────────────────────────┼────────────────────────┼────────────────┼────────────────────────┤\n",
       "│ fc1 (\u001b[38;5;33mDense\u001b[0m)               │ (\u001b[38;5;45mNone\u001b[0m, \u001b[38;5;34m128\u001b[0m)            │         \u001b[38;5;34m65,664\u001b[0m │ concatenate[\u001b[38;5;34m0\u001b[0m][\u001b[38;5;34m0\u001b[0m]      │\n",
       "├───────────────────────────┼────────────────────────┼────────────────┼────────────────────────┤\n",
       "│ bn_fc1                    │ (\u001b[38;5;45mNone\u001b[0m, \u001b[38;5;34m128\u001b[0m)            │            \u001b[38;5;34m512\u001b[0m │ fc1[\u001b[38;5;34m0\u001b[0m][\u001b[38;5;34m0\u001b[0m]              │\n",
       "│ (\u001b[38;5;33mBatchNormalization\u001b[0m)      │                        │                │                        │\n",
       "├───────────────────────────┼────────────────────────┼────────────────┼────────────────────────┤\n",
       "│ drop_fc1 (\u001b[38;5;33mDropout\u001b[0m)        │ (\u001b[38;5;45mNone\u001b[0m, \u001b[38;5;34m128\u001b[0m)            │              \u001b[38;5;34m0\u001b[0m │ bn_fc1[\u001b[38;5;34m0\u001b[0m][\u001b[38;5;34m0\u001b[0m]           │\n",
       "├───────────────────────────┼────────────────────────┼────────────────┼────────────────────────┤\n",
       "│ output (\u001b[38;5;33mDense\u001b[0m)            │ (\u001b[38;5;45mNone\u001b[0m, \u001b[38;5;34m7\u001b[0m)              │            \u001b[38;5;34m903\u001b[0m │ drop_fc1[\u001b[38;5;34m0\u001b[0m][\u001b[38;5;34m0\u001b[0m]         │\n",
       "└───────────────────────────┴────────────────────────┴────────────────┴────────────────────────┘\n"
      ]
     },
     "metadata": {},
     "output_type": "display_data"
    },
    {
     "data": {
      "text/html": [
       "<pre style=\"white-space:pre;overflow-x:auto;line-height:normal;font-family:Menlo,'DejaVu Sans Mono',consolas,'Courier New',monospace\"><span style=\"font-weight: bold\"> Total params: </span><span style=\"color: #00af00; text-decoration-color: #00af00\">16,330,439</span> (62.30 MB)\n",
       "</pre>\n"
      ],
      "text/plain": [
       "\u001b[1m Total params: \u001b[0m\u001b[38;5;34m16,330,439\u001b[0m (62.30 MB)\n"
      ]
     },
     "metadata": {},
     "output_type": "display_data"
    },
    {
     "data": {
      "text/html": [
       "<pre style=\"white-space:pre;overflow-x:auto;line-height:normal;font-family:Menlo,'DejaVu Sans Mono',consolas,'Courier New',monospace\"><span style=\"font-weight: bold\"> Trainable params: </span><span style=\"color: #00af00; text-decoration-color: #00af00\">16,328,647</span> (62.29 MB)\n",
       "</pre>\n"
      ],
      "text/plain": [
       "\u001b[1m Trainable params: \u001b[0m\u001b[38;5;34m16,328,647\u001b[0m (62.29 MB)\n"
      ]
     },
     "metadata": {},
     "output_type": "display_data"
    },
    {
     "data": {
      "text/html": [
       "<pre style=\"white-space:pre;overflow-x:auto;line-height:normal;font-family:Menlo,'DejaVu Sans Mono',consolas,'Courier New',monospace\"><span style=\"font-weight: bold\"> Non-trainable params: </span><span style=\"color: #00af00; text-decoration-color: #00af00\">1,792</span> (7.00 KB)\n",
       "</pre>\n"
      ],
      "text/plain": [
       "\u001b[1m Non-trainable params: \u001b[0m\u001b[38;5;34m1,792\u001b[0m (7.00 KB)\n"
      ]
     },
     "metadata": {},
     "output_type": "display_data"
    }
   ],
   "source": [
    "# Building the Enhanced Hybrid CNN + BiLSTM Model\n",
    "# Using the Functional API for a parallel architecture:\n",
    "input_layer = Input(shape=(max_sequence_length,), name='input_text')\n",
    "embedding_layer = Embedding(input_dim=num_words,\n",
    "                            output_dim=embedding_dim,\n",
    "                            input_length=max_sequence_length,\n",
    "                            weights=[embedding_matrix],\n",
    "                            trainable=True,\n",
    "                            name='embedding')(input_layer)\n",
    "drop_embedding = SpatialDropout1D(0.3, name='spatial_dropout')(embedding_layer)\n",
    "\n",
    "# CNN Branch: apply several 1D convolutions and global pooling\n",
    "conv1 = Conv1D(filters=256, kernel_size=3, padding='same', activation='relu', name='conv1_3')(drop_embedding)\n",
    "bn1   = BatchNormalization(name='bn1')(conv1)\n",
    "conv2 = Conv1D(filters=256, kernel_size=4, padding='same', activation='relu', name='conv2_4')(bn1)\n",
    "bn2   = BatchNormalization(name='bn2')(conv2)\n",
    "conv3 = Conv1D(filters=256, kernel_size=5, padding='same', activation='relu', name='conv3_5')(bn2)\n",
    "bn3   = BatchNormalization(name='bn3')(conv3)\n",
    "pool  = GlobalMaxPooling1D(name='global_max_pool')(bn3)\n",
    "\n",
    "# BiLSTM Branch: capture sequential context\n",
    "bilstm = Bidirectional(LSTM(units=128, dropout=0.3, recurrent_dropout=0.3), name='bilstm')(drop_embedding)\n",
    "drop_bilstm = Dropout(0.5, name='drop_bilstm')(bilstm)\n",
    "\n",
    "# Merge both branches\n",
    "merged = concatenate([pool, drop_bilstm], name='concatenate')\n",
    "\n",
    "# Fully connected layers after merging\n",
    "fc1 = Dense(128, activation='relu', name='fc1')(merged)\n",
    "bn_fc1 = BatchNormalization(name='bn_fc1')(fc1)\n",
    "drop_fc1 = Dropout(0.5, name='drop_fc1')(bn_fc1)\n",
    "\n",
    "# Output layer for multi-class classification\n",
    "output_layer = Dense(y_categorical.shape[1], activation='softmax', name='output')(drop_fc1)\n",
    "\n",
    "# Build and compile the model\n",
    "model = Model(inputs=input_layer, outputs=output_layer)\n",
    "model.compile(loss='categorical_crossentropy', optimizer='adam', metrics=['accuracy'])\n",
    "model.summary()"
   ]
  },
  {
   "cell_type": "code",
   "execution_count": 14,
   "id": "ae1786ac-0230-43a8-88cb-6e00959d1081",
   "metadata": {
    "execution": {
     "iopub.execute_input": "2025-07-06T13:20:03.106806Z",
     "iopub.status.busy": "2025-07-06T13:20:03.106156Z",
     "iopub.status.idle": "2025-07-06T13:53:51.621700Z",
     "shell.execute_reply": "2025-07-06T13:53:51.621019Z",
     "shell.execute_reply.started": "2025-07-06T13:20:03.106781Z"
    }
   },
   "outputs": [
    {
     "name": "stdout",
     "output_type": "stream",
     "text": [
      "Epoch 1/25\n"
     ]
    },
    {
     "name": "stderr",
     "output_type": "stream",
     "text": [
      "I0000 00:00:1751808014.798128     117 cuda_dnn.cc:529] Loaded cuDNN version 90300\n"
     ]
    },
    {
     "name": "stdout",
     "output_type": "stream",
     "text": [
      "\u001b[1m715/715\u001b[0m \u001b[32m━━━━━━━━━━━━━━━━━━━━\u001b[0m\u001b[37m\u001b[0m \u001b[1m239s\u001b[0m 316ms/step - accuracy: 0.5734 - loss: 1.1795 - val_accuracy: 0.8649 - val_loss: 0.3704 - learning_rate: 0.0010\n",
      "Epoch 2/25\n",
      "\u001b[1m715/715\u001b[0m \u001b[32m━━━━━━━━━━━━━━━━━━━━\u001b[0m\u001b[37m\u001b[0m \u001b[1m223s\u001b[0m 312ms/step - accuracy: 0.8613 - loss: 0.3803 - val_accuracy: 0.9003 - val_loss: 0.2775 - learning_rate: 0.0010\n",
      "Epoch 3/25\n",
      "\u001b[1m715/715\u001b[0m \u001b[32m━━━━━━━━━━━━━━━━━━━━\u001b[0m\u001b[37m\u001b[0m \u001b[1m224s\u001b[0m 313ms/step - accuracy: 0.9082 - loss: 0.2480 - val_accuracy: 0.9254 - val_loss: 0.2173 - learning_rate: 0.0010\n",
      "Epoch 4/25\n",
      "\u001b[1m715/715\u001b[0m \u001b[32m━━━━━━━━━━━━━━━━━━━━\u001b[0m\u001b[37m\u001b[0m \u001b[1m223s\u001b[0m 313ms/step - accuracy: 0.9390 - loss: 0.1744 - val_accuracy: 0.9345 - val_loss: 0.1934 - learning_rate: 0.0010\n",
      "Epoch 5/25\n",
      "\u001b[1m715/715\u001b[0m \u001b[32m━━━━━━━━━━━━━━━━━━━━\u001b[0m\u001b[37m\u001b[0m \u001b[1m224s\u001b[0m 313ms/step - accuracy: 0.9545 - loss: 0.1313 - val_accuracy: 0.9442 - val_loss: 0.1737 - learning_rate: 0.0010\n",
      "Epoch 6/25\n",
      "\u001b[1m715/715\u001b[0m \u001b[32m━━━━━━━━━━━━━━━━━━━━\u001b[0m\u001b[37m\u001b[0m \u001b[1m224s\u001b[0m 313ms/step - accuracy: 0.9660 - loss: 0.0982 - val_accuracy: 0.9453 - val_loss: 0.2030 - learning_rate: 0.0010\n",
      "Epoch 7/25\n",
      "\u001b[1m715/715\u001b[0m \u001b[32m━━━━━━━━━━━━━━━━━━━━\u001b[0m\u001b[37m\u001b[0m \u001b[1m0s\u001b[0m 288ms/step - accuracy: 0.9743 - loss: 0.0796\n",
      "Epoch 7: ReduceLROnPlateau reducing learning rate to 0.0005000000237487257.\n",
      "\u001b[1m715/715\u001b[0m \u001b[32m━━━━━━━━━━━━━━━━━━━━\u001b[0m\u001b[37m\u001b[0m \u001b[1m223s\u001b[0m 312ms/step - accuracy: 0.9743 - loss: 0.0796 - val_accuracy: 0.9472 - val_loss: 0.2037 - learning_rate: 0.0010\n",
      "Epoch 8/25\n",
      "\u001b[1m715/715\u001b[0m \u001b[32m━━━━━━━━━━━━━━━━━━━━\u001b[0m\u001b[37m\u001b[0m \u001b[1m223s\u001b[0m 313ms/step - accuracy: 0.9852 - loss: 0.0470 - val_accuracy: 0.9512 - val_loss: 0.2125 - learning_rate: 5.0000e-04\n",
      "Epoch 9/25\n",
      "\u001b[1m715/715\u001b[0m \u001b[32m━━━━━━━━━━━━━━━━━━━━\u001b[0m\u001b[37m\u001b[0m \u001b[1m0s\u001b[0m 290ms/step - accuracy: 0.9903 - loss: 0.0318\n",
      "Epoch 9: ReduceLROnPlateau reducing learning rate to 0.0002500000118743628.\n",
      "\u001b[1m715/715\u001b[0m \u001b[32m━━━━━━━━━━━━━━━━━━━━\u001b[0m\u001b[37m\u001b[0m \u001b[1m224s\u001b[0m 314ms/step - accuracy: 0.9903 - loss: 0.0319 - val_accuracy: 0.9521 - val_loss: 0.2270 - learning_rate: 5.0000e-04\n",
      "Epoch 9: early stopping\n",
      "Restoring model weights from the end of the best epoch: 5.\n"
     ]
    }
   ],
   "source": [
    "# Model Training with Callbacks\n",
    "early_stop = EarlyStopping(monitor='val_loss', patience=4, restore_best_weights=True, verbose=1)\n",
    "reduce_lr = ReduceLROnPlateau(monitor='val_loss', factor=0.5, patience=2, verbose=1)\n",
    "\n",
    "history = model.fit(X_train_padded, y_train,\n",
    "                    epochs=25,\n",
    "                    batch_size=128,\n",
    "                    validation_data=(X_test_padded, y_test),\n",
    "                    callbacks=[early_stop, reduce_lr])\n"
   ]
  },
  {
   "cell_type": "code",
   "execution_count": 15,
   "id": "1ebd0384-4ab9-43b4-a1b2-04d8678dd062",
   "metadata": {
    "execution": {
     "iopub.execute_input": "2025-07-06T13:55:49.937174Z",
     "iopub.status.busy": "2025-07-06T13:55:49.936520Z",
     "iopub.status.idle": "2025-07-06T13:56:48.681778Z",
     "shell.execute_reply": "2025-07-06T13:56:48.681086Z",
     "shell.execute_reply.started": "2025-07-06T13:55:49.937151Z"
    }
   },
   "outputs": [
    {
     "name": "stdout",
     "output_type": "stream",
     "text": [
      "\u001b[1m716/716\u001b[0m \u001b[32m━━━━━━━━━━━━━━━━━━━━\u001b[0m\u001b[37m\u001b[0m \u001b[1m59s\u001b[0m 82ms/step - accuracy: 0.9431 - loss: 0.1804\n",
      "\n",
      "Test Accuracy: 94.42%\n"
     ]
    }
   ],
   "source": [
    "# Evaluating the Model\n",
    "test_loss, test_accuracy = model.evaluate(X_test_padded, y_test)\n",
    "print(\"\\nTest Accuracy: {:.2f}%\".format(test_accuracy * 100))"
   ]
  },
  {
   "cell_type": "code",
   "execution_count": 16,
   "id": "9e5704fd-395d-43b5-bc80-595874b4412e",
   "metadata": {
    "execution": {
     "iopub.execute_input": "2025-07-06T13:57:45.685117Z",
     "iopub.status.busy": "2025-07-06T13:57:45.684581Z",
     "iopub.status.idle": "2025-07-06T13:58:44.526478Z",
     "shell.execute_reply": "2025-07-06T13:58:44.525944Z",
     "shell.execute_reply.started": "2025-07-06T13:57:45.685087Z"
    }
   },
   "outputs": [
    {
     "name": "stdout",
     "output_type": "stream",
     "text": [
      "\u001b[1m716/716\u001b[0m \u001b[32m━━━━━━━━━━━━━━━━━━━━\u001b[0m\u001b[37m\u001b[0m \u001b[1m58s\u001b[0m 80ms/step\n"
     ]
    }
   ],
   "source": [
    "# Predict on test set\n",
    "y_pred_nn_probs = model.predict(X_test_padded)\n",
    "y_pred_nn = np.argmax(y_pred_nn_probs, axis=1)"
   ]
  },
  {
   "cell_type": "code",
   "execution_count": 17,
   "id": "1327170d-d735-4e2b-9b34-fd7e4bcf4db9",
   "metadata": {
    "execution": {
     "iopub.execute_input": "2025-07-06T13:59:21.576357Z",
     "iopub.status.busy": "2025-07-06T13:59:21.576059Z",
     "iopub.status.idle": "2025-07-06T13:59:21.582141Z",
     "shell.execute_reply": "2025-07-06T13:59:21.581544Z",
     "shell.execute_reply.started": "2025-07-06T13:59:21.576338Z"
    }
   },
   "outputs": [],
   "source": [
    "# Get original label strings\n",
    "# Re-decode one-hot true labels to integers\n",
    "y_true_nn = np.argmax(y_test, axis=1)\n",
    "\n",
    "# Use the same label encoder to decode class indices back to strings\n",
    "true_labels = label_encoder.inverse_transform(y_true_nn)\n",
    "pred_labels = label_encoder.inverse_transform(y_pred_nn)"
   ]
  },
  {
   "cell_type": "code",
   "execution_count": 18,
   "id": "d07bb3bf-582d-4e3c-88b7-6b13882aef11",
   "metadata": {
    "execution": {
     "iopub.execute_input": "2025-07-06T13:59:23.522342Z",
     "iopub.status.busy": "2025-07-06T13:59:23.522127Z",
     "iopub.status.idle": "2025-07-06T13:59:23.527542Z",
     "shell.execute_reply": "2025-07-06T13:59:23.526834Z",
     "shell.execute_reply.started": "2025-07-06T13:59:23.522327Z"
    }
   },
   "outputs": [],
   "source": [
    "# Build DataFrame for saving\n",
    "df_nn = pd.DataFrame({\n",
    "    'text': X_test,                # raw input texts before tokenization\n",
    "    'true_label': true_labels,\n",
    "    'nn_pred': pred_labels\n",
    "})\n"
   ]
  },
  {
   "cell_type": "code",
   "execution_count": 19,
   "id": "a0db7933-afec-49c1-b061-a8922f4db223",
   "metadata": {
    "execution": {
     "iopub.execute_input": "2025-07-06T13:59:25.304573Z",
     "iopub.status.busy": "2025-07-06T13:59:25.304018Z",
     "iopub.status.idle": "2025-07-06T13:59:25.606868Z",
     "shell.execute_reply": "2025-07-06T13:59:25.606329Z",
     "shell.execute_reply.started": "2025-07-06T13:59:25.304556Z"
    }
   },
   "outputs": [
    {
     "name": "stdout",
     "output_type": "stream",
     "text": [
      "✅ Saved predictions_nn.csv with 22881 rows\n",
      "                                                text            true_label  \\\n",
      "0  weird get better interacting people context no...  Personality disorder   \n",
      "1  therapist trying new cbt thing therapist sayin...               Bipolar   \n",
      "2  hi everyone im giving writing go try cope ptsd...                Normal   \n",
      "3  good life ill alway regret thing committed toi...            Depression   \n",
      "4  easy probably anxious health lost close relati...                Stress   \n",
      "\n",
      "                nn_pred  \n",
      "0  Personality disorder  \n",
      "1               Bipolar  \n",
      "2                Stress  \n",
      "3            Depression  \n",
      "4                Stress  \n"
     ]
    }
   ],
   "source": [
    "#  Save to CSV\n",
    "df_nn.to_csv('predictions_nn.csv', index=False)\n",
    "print(\"✅ Saved predictions_nn.csv with\", len(df_nn), \"rows\")\n",
    "print(df_nn.head())"
   ]
  },
  {
   "cell_type": "code",
   "execution_count": null,
   "id": "5e667faf-2c56-499b-8b78-cef426b281cd",
   "metadata": {},
   "outputs": [],
   "source": []
  },
  {
   "cell_type": "code",
   "execution_count": null,
   "id": "f57830ed-94a6-4621-b422-1b12b2313377",
   "metadata": {},
   "outputs": [],
   "source": []
  }
 ],
 "metadata": {
  "kaggle": {
   "accelerator": "nvidiaTeslaT4",
   "dataSources": [
    {
     "datasetId": 7538489,
     "sourceId": 11985715,
     "sourceType": "datasetVersion"
    }
   ],
   "dockerImageVersionId": 31041,
   "isGpuEnabled": true,
   "isInternetEnabled": true,
   "language": "python",
   "sourceType": "notebook"
  },
  "kernelspec": {
   "display_name": "Python 3 (ipykernel)",
   "language": "python",
   "name": "python3"
  },
  "language_info": {
   "codemirror_mode": {
    "name": "ipython",
    "version": 3
   },
   "file_extension": ".py",
   "mimetype": "text/x-python",
   "name": "python",
   "nbconvert_exporter": "python",
   "pygments_lexer": "ipython3",
   "version": "3.11.7"
  }
 },
 "nbformat": 4,
 "nbformat_minor": 5
}
