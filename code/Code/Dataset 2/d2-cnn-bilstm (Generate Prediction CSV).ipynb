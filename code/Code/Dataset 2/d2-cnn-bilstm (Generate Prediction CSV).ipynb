{
 "cells": [
  {
   "cell_type": "markdown",
   "id": "8ac3dd8c-c64e-4ee9-b206-1cb3fdb51214",
   "metadata": {},
   "source": [
    "# Hybrid Approach (CNN-BiLSTM)"
   ]
  },
  {
   "cell_type": "code",
   "execution_count": 10,
   "id": "ae413028-553e-4ea3-923c-456b04e8364f",
   "metadata": {
    "execution": {
     "iopub.execute_input": "2025-07-06T15:41:35.627573Z",
     "iopub.status.busy": "2025-07-06T15:41:35.627289Z",
     "iopub.status.idle": "2025-07-06T15:41:35.634878Z",
     "shell.execute_reply": "2025-07-06T15:41:35.634117Z",
     "shell.execute_reply.started": "2025-07-06T15:41:35.627551Z"
    }
   },
   "outputs": [
    {
     "name": "stderr",
     "output_type": "stream",
     "text": [
      "[nltk_data] Downloading package stopwords to /usr/share/nltk_data...\n",
      "[nltk_data]   Package stopwords is already up-to-date!\n",
      "[nltk_data] Downloading package wordnet to /usr/share/nltk_data...\n",
      "[nltk_data]   Package wordnet is already up-to-date!\n"
     ]
    }
   ],
   "source": [
    "import os\n",
    "import pandas as pd\n",
    "import re\n",
    "import numpy as np\n",
    "import matplotlib.pyplot as plt\n",
    "import seaborn as sns\n",
    "import nltk\n",
    "nltk.download('stopwords')\n",
    "nltk.download('wordnet')\n",
    "from nltk.corpus import stopwords\n",
    "from nltk.stem import WordNetLemmatizer\n",
    "from sklearn.utils import resample\n",
    "from sklearn.model_selection import train_test_split\n",
    "from sklearn.preprocessing import LabelEncoder\n",
    "from tensorflow.keras.preprocessing.text import Tokenizer\n",
    "from tensorflow.keras.preprocessing.sequence import pad_sequences\n",
    "from tensorflow.keras.utils import to_categorical\n",
    "import tensorflow as tf\n",
    "from tensorflow.keras.layers import (Input, Embedding, SpatialDropout1D, Conv1D,\n",
    "                                     BatchNormalization, Dropout, GlobalMaxPooling1D,\n",
    "                                     Bidirectional, LSTM, Dense, concatenate)\n",
    "from tensorflow.keras.models import Model\n",
    "from tensorflow.keras.callbacks import EarlyStopping, ReduceLROnPlateau\n",
    "from gensim.downloader import load as gensim_load\n",
    "from sklearn.metrics import confusion_matrix, classification_report\n",
    "from wordcloud import WordCloud"
   ]
  },
  {
   "cell_type": "code",
   "execution_count": 11,
   "id": "53c5699b-af12-4c14-b5d7-158263d86a89",
   "metadata": {
    "execution": {
     "iopub.execute_input": "2025-07-06T15:41:37.592392Z",
     "iopub.status.busy": "2025-07-06T15:41:37.591665Z",
     "iopub.status.idle": "2025-07-06T15:41:37.787526Z",
     "shell.execute_reply": "2025-07-06T15:41:37.786953Z",
     "shell.execute_reply.started": "2025-07-06T15:41:37.592360Z"
    }
   },
   "outputs": [],
   "source": [
    "# Load the dataset\n",
    "df = pd.read_csv(\"/kaggle/input/mental-health-insights-data/Mental Health Dataset.csv\")"
   ]
  },
  {
   "cell_type": "code",
   "execution_count": 12,
   "id": "1d368690-e96d-4f8d-912e-c16fc85158ca",
   "metadata": {
    "execution": {
     "iopub.execute_input": "2025-07-06T15:41:39.087093Z",
     "iopub.status.busy": "2025-07-06T15:41:39.086693Z",
     "iopub.status.idle": "2025-07-06T15:41:39.090952Z",
     "shell.execute_reply": "2025-07-06T15:41:39.090132Z",
     "shell.execute_reply.started": "2025-07-06T15:41:39.087071Z"
    }
   },
   "outputs": [],
   "source": [
    "# Drop the unnecessary column if it exists\n",
    "if 'Unnamed: 0' in df.columns:\n",
    "    df.drop('Unnamed: 0', axis=1, inplace=True)\n"
   ]
  },
  {
   "cell_type": "code",
   "execution_count": 13,
   "id": "2e425121-d2a3-4c26-89fb-61bb9a7a5205",
   "metadata": {
    "execution": {
     "iopub.execute_input": "2025-07-06T15:41:40.654388Z",
     "iopub.status.busy": "2025-07-06T15:41:40.653787Z",
     "iopub.status.idle": "2025-07-06T15:41:40.662780Z",
     "shell.execute_reply": "2025-07-06T15:41:40.661959Z",
     "shell.execute_reply.started": "2025-07-06T15:41:40.654356Z"
    }
   },
   "outputs": [
    {
     "name": "stdout",
     "output_type": "stream",
     "text": [
      "\n",
      "Shape after dropping missing values: (10391, 3)\n"
     ]
    }
   ],
   "source": [
    "# Drop rows with missing values and show new shape\n",
    "df.dropna(inplace=True)\n",
    "print(\"\\nShape after dropping missing values:\", df.shape)"
   ]
  },
  {
   "cell_type": "code",
   "execution_count": 14,
   "id": "715e5eb4-b394-4350-8413-c6a25ba53fa3",
   "metadata": {
    "execution": {
     "iopub.execute_input": "2025-07-06T15:41:42.190457Z",
     "iopub.status.busy": "2025-07-06T15:41:42.189839Z",
     "iopub.status.idle": "2025-07-06T15:41:42.196514Z",
     "shell.execute_reply": "2025-07-06T15:41:42.195641Z",
     "shell.execute_reply.started": "2025-07-06T15:41:42.190434Z"
    }
   },
   "outputs": [
    {
     "name": "stdout",
     "output_type": "stream",
     "text": [
      "\\Predicted Value Counts before resampling:\n",
      "predicted\n",
      "neutral          4374\n",
      "negative         4112\n",
      "very negative    1155\n",
      "positive          750\n",
      "Name: count, dtype: int64\n"
     ]
    }
   ],
   "source": [
    "# Check distribution of predicted before resampling\n",
    "print(\"\\Predicted Value Counts before resampling:\")\n",
    "print(df['predicted'].value_counts())"
   ]
  },
  {
   "cell_type": "code",
   "execution_count": 15,
   "id": "7f741a26-4fb3-41ef-95b1-94e80ea112e6",
   "metadata": {
    "execution": {
     "iopub.execute_input": "2025-07-06T15:41:43.762686Z",
     "iopub.status.busy": "2025-07-06T15:41:43.761849Z",
     "iopub.status.idle": "2025-07-06T15:41:51.435619Z",
     "shell.execute_reply": "2025-07-06T15:41:51.434965Z",
     "shell.execute_reply.started": "2025-07-06T15:41:43.762661Z"
    }
   },
   "outputs": [
    {
     "name": "stdout",
     "output_type": "stream",
     "text": [
      "\n",
      "Sample preprocessed text:\n",
      "0    know parent child syndrome hear child high ris...\n",
      "1    heart know future promise article regardless h...\n",
      "2    mylefibrosis turn leukemia want stem cell tran...\n",
      "3    one health group subject wayne dyer leukemia c...\n",
      "4    gmos link leukemia http nsnbc 2013 07 17 gmo l...\n",
      "Name: posts, dtype: object\n"
     ]
    }
   ],
   "source": [
    "# Text Preprocessing\n",
    "stop_words = set(stopwords.words('english'))\n",
    "lemmatizer = WordNetLemmatizer()\n",
    "\n",
    "def preprocess_text(text):\n",
    "    text = re.sub(r'[^a-zA-Z0-9\\s]', '', text.lower())\n",
    "    tokens = text.split()\n",
    "    tokens = [lemmatizer.lemmatize(word) for word in tokens if word not in stop_words]\n",
    "    return \" \".join(tokens)\n",
    "\n",
    "df['posts'] = df['posts'].apply(preprocess_text)\n",
    "print(\"\\nSample preprocessed text:\")\n",
    "print(df['posts'].head())\n"
   ]
  },
  {
   "cell_type": "code",
   "execution_count": 16,
   "id": "ac43edbb-30a9-4432-9da0-d4d873b9af12",
   "metadata": {
    "execution": {
     "iopub.execute_input": "2025-07-06T15:41:53.106515Z",
     "iopub.status.busy": "2025-07-06T15:41:53.106015Z",
     "iopub.status.idle": "2025-07-06T15:41:53.131609Z",
     "shell.execute_reply": "2025-07-06T15:41:53.130890Z",
     "shell.execute_reply.started": "2025-07-06T15:41:53.106477Z"
    }
   },
   "outputs": [
    {
     "name": "stdout",
     "output_type": "stream",
     "text": [
      "Value counts after resampling:\n",
      "predicted\n",
      "negative         4374\n",
      "neutral          4374\n",
      "positive         4374\n",
      "very negative    4374\n",
      "Name: count, dtype: int64\n"
     ]
    }
   ],
   "source": [
    "# Data Resampling for Class Balance\n",
    "def resample_data(df):\n",
    "    max_count = df['predicted'].value_counts().max()\n",
    "    df_resampled = pd.DataFrame()\n",
    "    for predicted in df['predicted'].unique():\n",
    "        df_class = df[df['predicted'] == predicted]\n",
    "        if len(df_class) < max_count:\n",
    "            df_class_resampled = resample(df_class, replace=True, n_samples=max_count, random_state=42)\n",
    "            df_resampled = pd.concat([df_resampled, df_class_resampled])\n",
    "        else:\n",
    "            df_resampled = pd.concat([df_resampled, df_class])\n",
    "    return df_resampled\n",
    "\n",
    "df = resample_data(df)\n",
    "print(\"Value counts after resampling:\")\n",
    "print(df['predicted'].value_counts())"
   ]
  },
  {
   "cell_type": "code",
   "execution_count": 17,
   "id": "4e705eba-1b25-4ddc-98c7-c793a29468f4",
   "metadata": {
    "execution": {
     "iopub.execute_input": "2025-07-06T15:41:55.024244Z",
     "iopub.status.busy": "2025-07-06T15:41:55.023503Z",
     "iopub.status.idle": "2025-07-06T15:41:55.041402Z",
     "shell.execute_reply": "2025-07-06T15:41:55.040612Z",
     "shell.execute_reply.started": "2025-07-06T15:41:55.024212Z"
    }
   },
   "outputs": [
    {
     "name": "stdout",
     "output_type": "stream",
     "text": [
      "Training set shape: (13996,) (13996, 4)\n",
      "Testing set shape: (3500,) (3500, 4)\n"
     ]
    }
   ],
   "source": [
    "# Splitting Data and Encoding Labels\n",
    "X = df['posts'].values\n",
    "y = df['predicted'].values\n",
    "\n",
    "label_encoder = LabelEncoder()\n",
    "y_encoded = label_encoder.fit_transform(y)\n",
    "y_categorical = to_categorical(y_encoded)\n",
    "\n",
    "X_train, X_test, y_train, y_test = train_test_split(X, y_categorical, test_size=0.2, random_state=42)\n",
    "print(\"Training set shape:\", X_train.shape, y_train.shape)\n",
    "print(\"Testing set shape:\", X_test.shape, y_test.shape)"
   ]
  },
  {
   "cell_type": "code",
   "execution_count": 18,
   "id": "fa4d8a0f-bee2-44ac-bb57-4ef03d2a13e1",
   "metadata": {
    "execution": {
     "iopub.execute_input": "2025-07-06T15:41:57.230875Z",
     "iopub.status.busy": "2025-07-06T15:41:57.230189Z",
     "iopub.status.idle": "2025-07-06T15:41:58.827233Z",
     "shell.execute_reply": "2025-07-06T15:41:58.826527Z",
     "shell.execute_reply.started": "2025-07-06T15:41:57.230851Z"
    }
   },
   "outputs": [
    {
     "name": "stdout",
     "output_type": "stream",
     "text": [
      "Padded Training Data Shape: (13996, 100)\n",
      "Padded Testing Data Shape: (3500, 100)\n"
     ]
    }
   ],
   "source": [
    "# Tokenization and Padding\n",
    "max_words = 50000\n",
    "tokenizer = Tokenizer(num_words=max_words, oov_token=\"<OOV>\")\n",
    "tokenizer.fit_on_texts(X_train)\n",
    "\n",
    "X_train_seq = tokenizer.texts_to_sequences(X_train)\n",
    "X_test_seq = tokenizer.texts_to_sequences(X_test)\n",
    "\n",
    "max_sequence_length = 100\n",
    "X_train_padded = pad_sequences(X_train_seq, maxlen=max_sequence_length, padding='post', truncating='post')\n",
    "X_test_padded = pad_sequences(X_test_seq, maxlen=max_sequence_length, padding='post', truncating='post')\n",
    "print(\"Padded Training Data Shape:\", X_train_padded.shape)\n",
    "print(\"Padded Testing Data Shape:\", X_test_padded.shape)"
   ]
  },
  {
   "cell_type": "code",
   "execution_count": 19,
   "id": "9555a14e-10ab-4221-bef5-0c709d087cf5",
   "metadata": {
    "execution": {
     "iopub.execute_input": "2025-07-06T15:42:00.902884Z",
     "iopub.status.busy": "2025-07-06T15:42:00.902189Z",
     "iopub.status.idle": "2025-07-06T15:42:47.421820Z",
     "shell.execute_reply": "2025-07-06T15:42:47.421084Z",
     "shell.execute_reply.started": "2025-07-06T15:42:00.902862Z"
    }
   },
   "outputs": [
    {
     "name": "stdout",
     "output_type": "stream",
     "text": [
      "Downloading the pre-trained Google News Word2Vec model. This may take a while...\n",
      "Download complete. Embedding dimension: 300\n",
      "Found embeddings for 20006 out of 32979 words.\n"
     ]
    }
   ],
   "source": [
    "# Load Pre-trained Word2Vec and Build Embedding Matrix\n",
    "print(\"Downloading the pre-trained Google News Word2Vec model. This may take a while...\")\n",
    "word2vec_model = gensim_load(\"word2vec-google-news-300\")\n",
    "embedding_dim = word2vec_model.vector_size  \n",
    "print(\"Download complete. Embedding dimension:\", embedding_dim)\n",
    "\n",
    "word_index = tokenizer.word_index\n",
    "num_words = min(max_words, len(word_index) + 1)\n",
    "embedding_matrix = np.zeros((num_words, embedding_dim))\n",
    "found_count = 0\n",
    "\n",
    "for word, i in word_index.items():\n",
    "    if i >= max_words:\n",
    "        continue\n",
    "    if word in word2vec_model:\n",
    "        embedding_matrix[i] = word2vec_model[word]\n",
    "        found_count += 1\n",
    "    else:\n",
    "        # Initialize missing words with random vectors\n",
    "        embedding_matrix[i] = np.random.normal(scale=0.6, size=(embedding_dim,))\n",
    "\n",
    "print(f\"Found embeddings for {found_count} out of {num_words} words.\")\n"
   ]
  },
  {
   "cell_type": "code",
   "execution_count": 20,
   "id": "000a6a86-9acc-4b95-ab2c-500d4296338c",
   "metadata": {
    "execution": {
     "iopub.execute_input": "2025-07-06T15:42:55.923469Z",
     "iopub.status.busy": "2025-07-06T15:42:55.922790Z",
     "iopub.status.idle": "2025-07-06T15:42:59.488244Z",
     "shell.execute_reply": "2025-07-06T15:42:59.487684Z",
     "shell.execute_reply.started": "2025-07-06T15:42:55.923445Z"
    }
   },
   "outputs": [
    {
     "name": "stderr",
     "output_type": "stream",
     "text": [
      "/usr/local/lib/python3.11/dist-packages/keras/src/layers/core/embedding.py:90: UserWarning: Argument `input_length` is deprecated. Just remove it.\n",
      "  warnings.warn(\n",
      "I0000 00:00:1751816577.602951      35 gpu_device.cc:2022] Created device /job:localhost/replica:0/task:0/device:GPU:0 with 13942 MB memory:  -> device: 0, name: Tesla T4, pci bus id: 0000:00:04.0, compute capability: 7.5\n",
      "I0000 00:00:1751816577.603670      35 gpu_device.cc:2022] Created device /job:localhost/replica:0/task:0/device:GPU:1 with 13942 MB memory:  -> device: 1, name: Tesla T4, pci bus id: 0000:00:05.0, compute capability: 7.5\n"
     ]
    },
    {
     "data": {
      "text/html": [
       "<pre style=\"white-space:pre;overflow-x:auto;line-height:normal;font-family:Menlo,'DejaVu Sans Mono',consolas,'Courier New',monospace\"><span style=\"font-weight: bold\">Model: \"functional\"</span>\n",
       "</pre>\n"
      ],
      "text/plain": [
       "\u001b[1mModel: \"functional\"\u001b[0m\n"
      ]
     },
     "metadata": {},
     "output_type": "display_data"
    },
    {
     "data": {
      "text/html": [
       "<pre style=\"white-space:pre;overflow-x:auto;line-height:normal;font-family:Menlo,'DejaVu Sans Mono',consolas,'Courier New',monospace\">┏━━━━━━━━━━━━━━━━━━━━━━━━━━━┳━━━━━━━━━━━━━━━━━━━━━━━━┳━━━━━━━━━━━━━━━━┳━━━━━━━━━━━━━━━━━━━━━━━━┓\n",
       "┃<span style=\"font-weight: bold\"> Layer (type)              </span>┃<span style=\"font-weight: bold\"> Output Shape           </span>┃<span style=\"font-weight: bold\">        Param # </span>┃<span style=\"font-weight: bold\"> Connected to           </span>┃\n",
       "┡━━━━━━━━━━━━━━━━━━━━━━━━━━━╇━━━━━━━━━━━━━━━━━━━━━━━━╇━━━━━━━━━━━━━━━━╇━━━━━━━━━━━━━━━━━━━━━━━━┩\n",
       "│ input_text (<span style=\"color: #0087ff; text-decoration-color: #0087ff\">InputLayer</span>)   │ (<span style=\"color: #00d7ff; text-decoration-color: #00d7ff\">None</span>, <span style=\"color: #00af00; text-decoration-color: #00af00\">100</span>)            │              <span style=\"color: #00af00; text-decoration-color: #00af00\">0</span> │ -                      │\n",
       "├───────────────────────────┼────────────────────────┼────────────────┼────────────────────────┤\n",
       "│ embedding (<span style=\"color: #0087ff; text-decoration-color: #0087ff\">Embedding</span>)     │ (<span style=\"color: #00d7ff; text-decoration-color: #00d7ff\">None</span>, <span style=\"color: #00af00; text-decoration-color: #00af00\">100</span>, <span style=\"color: #00af00; text-decoration-color: #00af00\">300</span>)       │      <span style=\"color: #00af00; text-decoration-color: #00af00\">9,893,700</span> │ input_text[<span style=\"color: #00af00; text-decoration-color: #00af00\">0</span>][<span style=\"color: #00af00; text-decoration-color: #00af00\">0</span>]       │\n",
       "├───────────────────────────┼────────────────────────┼────────────────┼────────────────────────┤\n",
       "│ spatial_dropout           │ (<span style=\"color: #00d7ff; text-decoration-color: #00d7ff\">None</span>, <span style=\"color: #00af00; text-decoration-color: #00af00\">100</span>, <span style=\"color: #00af00; text-decoration-color: #00af00\">300</span>)       │              <span style=\"color: #00af00; text-decoration-color: #00af00\">0</span> │ embedding[<span style=\"color: #00af00; text-decoration-color: #00af00\">0</span>][<span style=\"color: #00af00; text-decoration-color: #00af00\">0</span>]        │\n",
       "│ (<span style=\"color: #0087ff; text-decoration-color: #0087ff\">SpatialDropout1D</span>)        │                        │                │                        │\n",
       "├───────────────────────────┼────────────────────────┼────────────────┼────────────────────────┤\n",
       "│ conv1_3 (<span style=\"color: #0087ff; text-decoration-color: #0087ff\">Conv1D</span>)          │ (<span style=\"color: #00d7ff; text-decoration-color: #00d7ff\">None</span>, <span style=\"color: #00af00; text-decoration-color: #00af00\">100</span>, <span style=\"color: #00af00; text-decoration-color: #00af00\">256</span>)       │        <span style=\"color: #00af00; text-decoration-color: #00af00\">230,656</span> │ spatial_dropout[<span style=\"color: #00af00; text-decoration-color: #00af00\">0</span>][<span style=\"color: #00af00; text-decoration-color: #00af00\">0</span>]  │\n",
       "├───────────────────────────┼────────────────────────┼────────────────┼────────────────────────┤\n",
       "│ bn1 (<span style=\"color: #0087ff; text-decoration-color: #0087ff\">BatchNormalization</span>)  │ (<span style=\"color: #00d7ff; text-decoration-color: #00d7ff\">None</span>, <span style=\"color: #00af00; text-decoration-color: #00af00\">100</span>, <span style=\"color: #00af00; text-decoration-color: #00af00\">256</span>)       │          <span style=\"color: #00af00; text-decoration-color: #00af00\">1,024</span> │ conv1_3[<span style=\"color: #00af00; text-decoration-color: #00af00\">0</span>][<span style=\"color: #00af00; text-decoration-color: #00af00\">0</span>]          │\n",
       "├───────────────────────────┼────────────────────────┼────────────────┼────────────────────────┤\n",
       "│ conv2_4 (<span style=\"color: #0087ff; text-decoration-color: #0087ff\">Conv1D</span>)          │ (<span style=\"color: #00d7ff; text-decoration-color: #00d7ff\">None</span>, <span style=\"color: #00af00; text-decoration-color: #00af00\">100</span>, <span style=\"color: #00af00; text-decoration-color: #00af00\">256</span>)       │        <span style=\"color: #00af00; text-decoration-color: #00af00\">262,400</span> │ bn1[<span style=\"color: #00af00; text-decoration-color: #00af00\">0</span>][<span style=\"color: #00af00; text-decoration-color: #00af00\">0</span>]              │\n",
       "├───────────────────────────┼────────────────────────┼────────────────┼────────────────────────┤\n",
       "│ bn2 (<span style=\"color: #0087ff; text-decoration-color: #0087ff\">BatchNormalization</span>)  │ (<span style=\"color: #00d7ff; text-decoration-color: #00d7ff\">None</span>, <span style=\"color: #00af00; text-decoration-color: #00af00\">100</span>, <span style=\"color: #00af00; text-decoration-color: #00af00\">256</span>)       │          <span style=\"color: #00af00; text-decoration-color: #00af00\">1,024</span> │ conv2_4[<span style=\"color: #00af00; text-decoration-color: #00af00\">0</span>][<span style=\"color: #00af00; text-decoration-color: #00af00\">0</span>]          │\n",
       "├───────────────────────────┼────────────────────────┼────────────────┼────────────────────────┤\n",
       "│ conv3_5 (<span style=\"color: #0087ff; text-decoration-color: #0087ff\">Conv1D</span>)          │ (<span style=\"color: #00d7ff; text-decoration-color: #00d7ff\">None</span>, <span style=\"color: #00af00; text-decoration-color: #00af00\">100</span>, <span style=\"color: #00af00; text-decoration-color: #00af00\">256</span>)       │        <span style=\"color: #00af00; text-decoration-color: #00af00\">327,936</span> │ bn2[<span style=\"color: #00af00; text-decoration-color: #00af00\">0</span>][<span style=\"color: #00af00; text-decoration-color: #00af00\">0</span>]              │\n",
       "├───────────────────────────┼────────────────────────┼────────────────┼────────────────────────┤\n",
       "│ bn3 (<span style=\"color: #0087ff; text-decoration-color: #0087ff\">BatchNormalization</span>)  │ (<span style=\"color: #00d7ff; text-decoration-color: #00d7ff\">None</span>, <span style=\"color: #00af00; text-decoration-color: #00af00\">100</span>, <span style=\"color: #00af00; text-decoration-color: #00af00\">256</span>)       │          <span style=\"color: #00af00; text-decoration-color: #00af00\">1,024</span> │ conv3_5[<span style=\"color: #00af00; text-decoration-color: #00af00\">0</span>][<span style=\"color: #00af00; text-decoration-color: #00af00\">0</span>]          │\n",
       "├───────────────────────────┼────────────────────────┼────────────────┼────────────────────────┤\n",
       "│ bilstm (<span style=\"color: #0087ff; text-decoration-color: #0087ff\">Bidirectional</span>)    │ (<span style=\"color: #00d7ff; text-decoration-color: #00d7ff\">None</span>, <span style=\"color: #00af00; text-decoration-color: #00af00\">256</span>)            │        <span style=\"color: #00af00; text-decoration-color: #00af00\">439,296</span> │ spatial_dropout[<span style=\"color: #00af00; text-decoration-color: #00af00\">0</span>][<span style=\"color: #00af00; text-decoration-color: #00af00\">0</span>]  │\n",
       "├───────────────────────────┼────────────────────────┼────────────────┼────────────────────────┤\n",
       "│ global_max_pool           │ (<span style=\"color: #00d7ff; text-decoration-color: #00d7ff\">None</span>, <span style=\"color: #00af00; text-decoration-color: #00af00\">256</span>)            │              <span style=\"color: #00af00; text-decoration-color: #00af00\">0</span> │ bn3[<span style=\"color: #00af00; text-decoration-color: #00af00\">0</span>][<span style=\"color: #00af00; text-decoration-color: #00af00\">0</span>]              │\n",
       "│ (<span style=\"color: #0087ff; text-decoration-color: #0087ff\">GlobalMaxPooling1D</span>)      │                        │                │                        │\n",
       "├───────────────────────────┼────────────────────────┼────────────────┼────────────────────────┤\n",
       "│ drop_bilstm (<span style=\"color: #0087ff; text-decoration-color: #0087ff\">Dropout</span>)     │ (<span style=\"color: #00d7ff; text-decoration-color: #00d7ff\">None</span>, <span style=\"color: #00af00; text-decoration-color: #00af00\">256</span>)            │              <span style=\"color: #00af00; text-decoration-color: #00af00\">0</span> │ bilstm[<span style=\"color: #00af00; text-decoration-color: #00af00\">0</span>][<span style=\"color: #00af00; text-decoration-color: #00af00\">0</span>]           │\n",
       "├───────────────────────────┼────────────────────────┼────────────────┼────────────────────────┤\n",
       "│ concatenate (<span style=\"color: #0087ff; text-decoration-color: #0087ff\">Concatenate</span>) │ (<span style=\"color: #00d7ff; text-decoration-color: #00d7ff\">None</span>, <span style=\"color: #00af00; text-decoration-color: #00af00\">512</span>)            │              <span style=\"color: #00af00; text-decoration-color: #00af00\">0</span> │ global_max_pool[<span style=\"color: #00af00; text-decoration-color: #00af00\">0</span>][<span style=\"color: #00af00; text-decoration-color: #00af00\">0</span>], │\n",
       "│                           │                        │                │ drop_bilstm[<span style=\"color: #00af00; text-decoration-color: #00af00\">0</span>][<span style=\"color: #00af00; text-decoration-color: #00af00\">0</span>]      │\n",
       "├───────────────────────────┼────────────────────────┼────────────────┼────────────────────────┤\n",
       "│ fc1 (<span style=\"color: #0087ff; text-decoration-color: #0087ff\">Dense</span>)               │ (<span style=\"color: #00d7ff; text-decoration-color: #00d7ff\">None</span>, <span style=\"color: #00af00; text-decoration-color: #00af00\">128</span>)            │         <span style=\"color: #00af00; text-decoration-color: #00af00\">65,664</span> │ concatenate[<span style=\"color: #00af00; text-decoration-color: #00af00\">0</span>][<span style=\"color: #00af00; text-decoration-color: #00af00\">0</span>]      │\n",
       "├───────────────────────────┼────────────────────────┼────────────────┼────────────────────────┤\n",
       "│ bn_fc1                    │ (<span style=\"color: #00d7ff; text-decoration-color: #00d7ff\">None</span>, <span style=\"color: #00af00; text-decoration-color: #00af00\">128</span>)            │            <span style=\"color: #00af00; text-decoration-color: #00af00\">512</span> │ fc1[<span style=\"color: #00af00; text-decoration-color: #00af00\">0</span>][<span style=\"color: #00af00; text-decoration-color: #00af00\">0</span>]              │\n",
       "│ (<span style=\"color: #0087ff; text-decoration-color: #0087ff\">BatchNormalization</span>)      │                        │                │                        │\n",
       "├───────────────────────────┼────────────────────────┼────────────────┼────────────────────────┤\n",
       "│ drop_fc1 (<span style=\"color: #0087ff; text-decoration-color: #0087ff\">Dropout</span>)        │ (<span style=\"color: #00d7ff; text-decoration-color: #00d7ff\">None</span>, <span style=\"color: #00af00; text-decoration-color: #00af00\">128</span>)            │              <span style=\"color: #00af00; text-decoration-color: #00af00\">0</span> │ bn_fc1[<span style=\"color: #00af00; text-decoration-color: #00af00\">0</span>][<span style=\"color: #00af00; text-decoration-color: #00af00\">0</span>]           │\n",
       "├───────────────────────────┼────────────────────────┼────────────────┼────────────────────────┤\n",
       "│ output (<span style=\"color: #0087ff; text-decoration-color: #0087ff\">Dense</span>)            │ (<span style=\"color: #00d7ff; text-decoration-color: #00d7ff\">None</span>, <span style=\"color: #00af00; text-decoration-color: #00af00\">4</span>)              │            <span style=\"color: #00af00; text-decoration-color: #00af00\">516</span> │ drop_fc1[<span style=\"color: #00af00; text-decoration-color: #00af00\">0</span>][<span style=\"color: #00af00; text-decoration-color: #00af00\">0</span>]         │\n",
       "└───────────────────────────┴────────────────────────┴────────────────┴────────────────────────┘\n",
       "</pre>\n"
      ],
      "text/plain": [
       "┏━━━━━━━━━━━━━━━━━━━━━━━━━━━┳━━━━━━━━━━━━━━━━━━━━━━━━┳━━━━━━━━━━━━━━━━┳━━━━━━━━━━━━━━━━━━━━━━━━┓\n",
       "┃\u001b[1m \u001b[0m\u001b[1mLayer (type)             \u001b[0m\u001b[1m \u001b[0m┃\u001b[1m \u001b[0m\u001b[1mOutput Shape          \u001b[0m\u001b[1m \u001b[0m┃\u001b[1m \u001b[0m\u001b[1m       Param #\u001b[0m\u001b[1m \u001b[0m┃\u001b[1m \u001b[0m\u001b[1mConnected to          \u001b[0m\u001b[1m \u001b[0m┃\n",
       "┡━━━━━━━━━━━━━━━━━━━━━━━━━━━╇━━━━━━━━━━━━━━━━━━━━━━━━╇━━━━━━━━━━━━━━━━╇━━━━━━━━━━━━━━━━━━━━━━━━┩\n",
       "│ input_text (\u001b[38;5;33mInputLayer\u001b[0m)   │ (\u001b[38;5;45mNone\u001b[0m, \u001b[38;5;34m100\u001b[0m)            │              \u001b[38;5;34m0\u001b[0m │ -                      │\n",
       "├───────────────────────────┼────────────────────────┼────────────────┼────────────────────────┤\n",
       "│ embedding (\u001b[38;5;33mEmbedding\u001b[0m)     │ (\u001b[38;5;45mNone\u001b[0m, \u001b[38;5;34m100\u001b[0m, \u001b[38;5;34m300\u001b[0m)       │      \u001b[38;5;34m9,893,700\u001b[0m │ input_text[\u001b[38;5;34m0\u001b[0m][\u001b[38;5;34m0\u001b[0m]       │\n",
       "├───────────────────────────┼────────────────────────┼────────────────┼────────────────────────┤\n",
       "│ spatial_dropout           │ (\u001b[38;5;45mNone\u001b[0m, \u001b[38;5;34m100\u001b[0m, \u001b[38;5;34m300\u001b[0m)       │              \u001b[38;5;34m0\u001b[0m │ embedding[\u001b[38;5;34m0\u001b[0m][\u001b[38;5;34m0\u001b[0m]        │\n",
       "│ (\u001b[38;5;33mSpatialDropout1D\u001b[0m)        │                        │                │                        │\n",
       "├───────────────────────────┼────────────────────────┼────────────────┼────────────────────────┤\n",
       "│ conv1_3 (\u001b[38;5;33mConv1D\u001b[0m)          │ (\u001b[38;5;45mNone\u001b[0m, \u001b[38;5;34m100\u001b[0m, \u001b[38;5;34m256\u001b[0m)       │        \u001b[38;5;34m230,656\u001b[0m │ spatial_dropout[\u001b[38;5;34m0\u001b[0m][\u001b[38;5;34m0\u001b[0m]  │\n",
       "├───────────────────────────┼────────────────────────┼────────────────┼────────────────────────┤\n",
       "│ bn1 (\u001b[38;5;33mBatchNormalization\u001b[0m)  │ (\u001b[38;5;45mNone\u001b[0m, \u001b[38;5;34m100\u001b[0m, \u001b[38;5;34m256\u001b[0m)       │          \u001b[38;5;34m1,024\u001b[0m │ conv1_3[\u001b[38;5;34m0\u001b[0m][\u001b[38;5;34m0\u001b[0m]          │\n",
       "├───────────────────────────┼────────────────────────┼────────────────┼────────────────────────┤\n",
       "│ conv2_4 (\u001b[38;5;33mConv1D\u001b[0m)          │ (\u001b[38;5;45mNone\u001b[0m, \u001b[38;5;34m100\u001b[0m, \u001b[38;5;34m256\u001b[0m)       │        \u001b[38;5;34m262,400\u001b[0m │ bn1[\u001b[38;5;34m0\u001b[0m][\u001b[38;5;34m0\u001b[0m]              │\n",
       "├───────────────────────────┼────────────────────────┼────────────────┼────────────────────────┤\n",
       "│ bn2 (\u001b[38;5;33mBatchNormalization\u001b[0m)  │ (\u001b[38;5;45mNone\u001b[0m, \u001b[38;5;34m100\u001b[0m, \u001b[38;5;34m256\u001b[0m)       │          \u001b[38;5;34m1,024\u001b[0m │ conv2_4[\u001b[38;5;34m0\u001b[0m][\u001b[38;5;34m0\u001b[0m]          │\n",
       "├───────────────────────────┼────────────────────────┼────────────────┼────────────────────────┤\n",
       "│ conv3_5 (\u001b[38;5;33mConv1D\u001b[0m)          │ (\u001b[38;5;45mNone\u001b[0m, \u001b[38;5;34m100\u001b[0m, \u001b[38;5;34m256\u001b[0m)       │        \u001b[38;5;34m327,936\u001b[0m │ bn2[\u001b[38;5;34m0\u001b[0m][\u001b[38;5;34m0\u001b[0m]              │\n",
       "├───────────────────────────┼────────────────────────┼────────────────┼────────────────────────┤\n",
       "│ bn3 (\u001b[38;5;33mBatchNormalization\u001b[0m)  │ (\u001b[38;5;45mNone\u001b[0m, \u001b[38;5;34m100\u001b[0m, \u001b[38;5;34m256\u001b[0m)       │          \u001b[38;5;34m1,024\u001b[0m │ conv3_5[\u001b[38;5;34m0\u001b[0m][\u001b[38;5;34m0\u001b[0m]          │\n",
       "├───────────────────────────┼────────────────────────┼────────────────┼────────────────────────┤\n",
       "│ bilstm (\u001b[38;5;33mBidirectional\u001b[0m)    │ (\u001b[38;5;45mNone\u001b[0m, \u001b[38;5;34m256\u001b[0m)            │        \u001b[38;5;34m439,296\u001b[0m │ spatial_dropout[\u001b[38;5;34m0\u001b[0m][\u001b[38;5;34m0\u001b[0m]  │\n",
       "├───────────────────────────┼────────────────────────┼────────────────┼────────────────────────┤\n",
       "│ global_max_pool           │ (\u001b[38;5;45mNone\u001b[0m, \u001b[38;5;34m256\u001b[0m)            │              \u001b[38;5;34m0\u001b[0m │ bn3[\u001b[38;5;34m0\u001b[0m][\u001b[38;5;34m0\u001b[0m]              │\n",
       "│ (\u001b[38;5;33mGlobalMaxPooling1D\u001b[0m)      │                        │                │                        │\n",
       "├───────────────────────────┼────────────────────────┼────────────────┼────────────────────────┤\n",
       "│ drop_bilstm (\u001b[38;5;33mDropout\u001b[0m)     │ (\u001b[38;5;45mNone\u001b[0m, \u001b[38;5;34m256\u001b[0m)            │              \u001b[38;5;34m0\u001b[0m │ bilstm[\u001b[38;5;34m0\u001b[0m][\u001b[38;5;34m0\u001b[0m]           │\n",
       "├───────────────────────────┼────────────────────────┼────────────────┼────────────────────────┤\n",
       "│ concatenate (\u001b[38;5;33mConcatenate\u001b[0m) │ (\u001b[38;5;45mNone\u001b[0m, \u001b[38;5;34m512\u001b[0m)            │              \u001b[38;5;34m0\u001b[0m │ global_max_pool[\u001b[38;5;34m0\u001b[0m][\u001b[38;5;34m0\u001b[0m], │\n",
       "│                           │                        │                │ drop_bilstm[\u001b[38;5;34m0\u001b[0m][\u001b[38;5;34m0\u001b[0m]      │\n",
       "├───────────────────────────┼────────────────────────┼────────────────┼────────────────────────┤\n",
       "│ fc1 (\u001b[38;5;33mDense\u001b[0m)               │ (\u001b[38;5;45mNone\u001b[0m, \u001b[38;5;34m128\u001b[0m)            │         \u001b[38;5;34m65,664\u001b[0m │ concatenate[\u001b[38;5;34m0\u001b[0m][\u001b[38;5;34m0\u001b[0m]      │\n",
       "├───────────────────────────┼────────────────────────┼────────────────┼────────────────────────┤\n",
       "│ bn_fc1                    │ (\u001b[38;5;45mNone\u001b[0m, \u001b[38;5;34m128\u001b[0m)            │            \u001b[38;5;34m512\u001b[0m │ fc1[\u001b[38;5;34m0\u001b[0m][\u001b[38;5;34m0\u001b[0m]              │\n",
       "│ (\u001b[38;5;33mBatchNormalization\u001b[0m)      │                        │                │                        │\n",
       "├───────────────────────────┼────────────────────────┼────────────────┼────────────────────────┤\n",
       "│ drop_fc1 (\u001b[38;5;33mDropout\u001b[0m)        │ (\u001b[38;5;45mNone\u001b[0m, \u001b[38;5;34m128\u001b[0m)            │              \u001b[38;5;34m0\u001b[0m │ bn_fc1[\u001b[38;5;34m0\u001b[0m][\u001b[38;5;34m0\u001b[0m]           │\n",
       "├───────────────────────────┼────────────────────────┼────────────────┼────────────────────────┤\n",
       "│ output (\u001b[38;5;33mDense\u001b[0m)            │ (\u001b[38;5;45mNone\u001b[0m, \u001b[38;5;34m4\u001b[0m)              │            \u001b[38;5;34m516\u001b[0m │ drop_fc1[\u001b[38;5;34m0\u001b[0m][\u001b[38;5;34m0\u001b[0m]         │\n",
       "└───────────────────────────┴────────────────────────┴────────────────┴────────────────────────┘\n"
      ]
     },
     "metadata": {},
     "output_type": "display_data"
    },
    {
     "data": {
      "text/html": [
       "<pre style=\"white-space:pre;overflow-x:auto;line-height:normal;font-family:Menlo,'DejaVu Sans Mono',consolas,'Courier New',monospace\"><span style=\"font-weight: bold\"> Total params: </span><span style=\"color: #00af00; text-decoration-color: #00af00\">11,223,752</span> (42.82 MB)\n",
       "</pre>\n"
      ],
      "text/plain": [
       "\u001b[1m Total params: \u001b[0m\u001b[38;5;34m11,223,752\u001b[0m (42.82 MB)\n"
      ]
     },
     "metadata": {},
     "output_type": "display_data"
    },
    {
     "data": {
      "text/html": [
       "<pre style=\"white-space:pre;overflow-x:auto;line-height:normal;font-family:Menlo,'DejaVu Sans Mono',consolas,'Courier New',monospace\"><span style=\"font-weight: bold\"> Trainable params: </span><span style=\"color: #00af00; text-decoration-color: #00af00\">11,221,960</span> (42.81 MB)\n",
       "</pre>\n"
      ],
      "text/plain": [
       "\u001b[1m Trainable params: \u001b[0m\u001b[38;5;34m11,221,960\u001b[0m (42.81 MB)\n"
      ]
     },
     "metadata": {},
     "output_type": "display_data"
    },
    {
     "data": {
      "text/html": [
       "<pre style=\"white-space:pre;overflow-x:auto;line-height:normal;font-family:Menlo,'DejaVu Sans Mono',consolas,'Courier New',monospace\"><span style=\"font-weight: bold\"> Non-trainable params: </span><span style=\"color: #00af00; text-decoration-color: #00af00\">1,792</span> (7.00 KB)\n",
       "</pre>\n"
      ],
      "text/plain": [
       "\u001b[1m Non-trainable params: \u001b[0m\u001b[38;5;34m1,792\u001b[0m (7.00 KB)\n"
      ]
     },
     "metadata": {},
     "output_type": "display_data"
    }
   ],
   "source": [
    "# Building the Enhanced Hybrid CNN + BiLSTM Model\n",
    "# Using the Functional API for a parallel architecture:\n",
    "input_layer = Input(shape=(max_sequence_length,), name='input_text')\n",
    "embedding_layer = Embedding(input_dim=num_words,\n",
    "                            output_dim=embedding_dim,\n",
    "                            input_length=max_sequence_length,\n",
    "                            weights=[embedding_matrix],\n",
    "                            trainable=True,\n",
    "                            name='embedding')(input_layer)\n",
    "drop_embedding = SpatialDropout1D(0.3, name='spatial_dropout')(embedding_layer)\n",
    "\n",
    "# CNN Branch: apply several 1D convolutions and global pooling\n",
    "conv1 = Conv1D(filters=256, kernel_size=3, padding='same', activation='relu', name='conv1_3')(drop_embedding)\n",
    "bn1   = BatchNormalization(name='bn1')(conv1)\n",
    "conv2 = Conv1D(filters=256, kernel_size=4, padding='same', activation='relu', name='conv2_4')(bn1)\n",
    "bn2   = BatchNormalization(name='bn2')(conv2)\n",
    "conv3 = Conv1D(filters=256, kernel_size=5, padding='same', activation='relu', name='conv3_5')(bn2)\n",
    "bn3   = BatchNormalization(name='bn3')(conv3)\n",
    "pool  = GlobalMaxPooling1D(name='global_max_pool')(bn3)\n",
    "\n",
    "# BiLSTM Branch: capture sequential context\n",
    "bilstm = Bidirectional(LSTM(units=128, dropout=0.3, recurrent_dropout=0.3), name='bilstm')(drop_embedding)\n",
    "drop_bilstm = Dropout(0.5, name='drop_bilstm')(bilstm)\n",
    "\n",
    "# Merge both branches\n",
    "merged = concatenate([pool, drop_bilstm], name='concatenate')\n",
    "\n",
    "# Fully connected layers after merging\n",
    "fc1 = Dense(128, activation='relu', name='fc1')(merged)\n",
    "bn_fc1 = BatchNormalization(name='bn_fc1')(fc1)\n",
    "drop_fc1 = Dropout(0.5, name='drop_fc1')(bn_fc1)\n",
    "\n",
    "# Output layer for multi-class classification\n",
    "output_layer = Dense(y_categorical.shape[1], activation='softmax', name='output')(drop_fc1)\n",
    "\n",
    "# Build and compile the model\n",
    "model = Model(inputs=input_layer, outputs=output_layer)\n",
    "model.compile(loss='categorical_crossentropy', optimizer='adam', metrics=['accuracy'])\n",
    "model.summary()"
   ]
  },
  {
   "cell_type": "code",
   "execution_count": 21,
   "id": "ae1786ac-0230-43a8-88cb-6e00959d1081",
   "metadata": {
    "execution": {
     "iopub.execute_input": "2025-07-06T15:43:06.327238Z",
     "iopub.status.busy": "2025-07-06T15:43:06.326972Z",
     "iopub.status.idle": "2025-07-06T15:51:23.649462Z",
     "shell.execute_reply": "2025-07-06T15:51:23.648525Z",
     "shell.execute_reply.started": "2025-07-06T15:43:06.327223Z"
    }
   },
   "outputs": [
    {
     "name": "stdout",
     "output_type": "stream",
     "text": [
      "Epoch 1/25\n"
     ]
    },
    {
     "name": "stderr",
     "output_type": "stream",
     "text": [
      "I0000 00:00:1751816601.898447     126 cuda_dnn.cc:529] Loaded cuDNN version 90300\n"
     ]
    },
    {
     "name": "stdout",
     "output_type": "stream",
     "text": [
      "\u001b[1m110/110\u001b[0m \u001b[32m━━━━━━━━━━━━━━━━━━━━\u001b[0m\u001b[37m\u001b[0m \u001b[1m73s\u001b[0m 504ms/step - accuracy: 0.4145 - loss: 1.4534 - val_accuracy: 0.4086 - val_loss: 1.2777 - learning_rate: 0.0010\n",
      "Epoch 2/25\n",
      "\u001b[1m110/110\u001b[0m \u001b[32m━━━━━━━━━━━━━━━━━━━━\u001b[0m\u001b[37m\u001b[0m \u001b[1m53s\u001b[0m 484ms/step - accuracy: 0.7419 - loss: 0.6688 - val_accuracy: 0.5543 - val_loss: 0.9722 - learning_rate: 0.0010\n",
      "Epoch 3/25\n",
      "\u001b[1m110/110\u001b[0m \u001b[32m━━━━━━━━━━━━━━━━━━━━\u001b[0m\u001b[37m\u001b[0m \u001b[1m53s\u001b[0m 481ms/step - accuracy: 0.8491 - loss: 0.4074 - val_accuracy: 0.8523 - val_loss: 0.4101 - learning_rate: 0.0010\n",
      "Epoch 4/25\n",
      "\u001b[1m110/110\u001b[0m \u001b[32m━━━━━━━━━━━━━━━━━━━━\u001b[0m\u001b[37m\u001b[0m \u001b[1m53s\u001b[0m 480ms/step - accuracy: 0.9060 - loss: 0.2731 - val_accuracy: 0.8954 - val_loss: 0.3040 - learning_rate: 0.0010\n",
      "Epoch 5/25\n",
      "\u001b[1m110/110\u001b[0m \u001b[32m━━━━━━━━━━━━━━━━━━━━\u001b[0m\u001b[37m\u001b[0m \u001b[1m53s\u001b[0m 482ms/step - accuracy: 0.9394 - loss: 0.1812 - val_accuracy: 0.9060 - val_loss: 0.2701 - learning_rate: 0.0010\n",
      "Epoch 6/25\n",
      "\u001b[1m110/110\u001b[0m \u001b[32m━━━━━━━━━━━━━━━━━━━━\u001b[0m\u001b[37m\u001b[0m \u001b[1m53s\u001b[0m 482ms/step - accuracy: 0.9467 - loss: 0.1585 - val_accuracy: 0.9143 - val_loss: 0.2852 - learning_rate: 0.0010\n",
      "Epoch 7/25\n",
      "\u001b[1m110/110\u001b[0m \u001b[32m━━━━━━━━━━━━━━━━━━━━\u001b[0m\u001b[37m\u001b[0m \u001b[1m0s\u001b[0m 454ms/step - accuracy: 0.9659 - loss: 0.1098\n",
      "Epoch 7: ReduceLROnPlateau reducing learning rate to 0.0005000000237487257.\n",
      "\u001b[1m110/110\u001b[0m \u001b[32m━━━━━━━━━━━━━━━━━━━━\u001b[0m\u001b[37m\u001b[0m \u001b[1m53s\u001b[0m 481ms/step - accuracy: 0.9659 - loss: 0.1098 - val_accuracy: 0.8931 - val_loss: 0.4005 - learning_rate: 0.0010\n",
      "Epoch 8/25\n",
      "\u001b[1m110/110\u001b[0m \u001b[32m━━━━━━━━━━━━━━━━━━━━\u001b[0m\u001b[37m\u001b[0m \u001b[1m53s\u001b[0m 481ms/step - accuracy: 0.9766 - loss: 0.0824 - val_accuracy: 0.9091 - val_loss: 0.3216 - learning_rate: 5.0000e-04\n",
      "Epoch 9/25\n",
      "\u001b[1m110/110\u001b[0m \u001b[32m━━━━━━━━━━━━━━━━━━━━\u001b[0m\u001b[37m\u001b[0m \u001b[1m0s\u001b[0m 455ms/step - accuracy: 0.9876 - loss: 0.0496\n",
      "Epoch 9: ReduceLROnPlateau reducing learning rate to 0.0002500000118743628.\n",
      "\u001b[1m110/110\u001b[0m \u001b[32m━━━━━━━━━━━━━━━━━━━━\u001b[0m\u001b[37m\u001b[0m \u001b[1m53s\u001b[0m 482ms/step - accuracy: 0.9876 - loss: 0.0497 - val_accuracy: 0.9069 - val_loss: 0.3637 - learning_rate: 5.0000e-04\n",
      "Epoch 9: early stopping\n",
      "Restoring model weights from the end of the best epoch: 5.\n"
     ]
    }
   ],
   "source": [
    "# Model Training with Callbacks\n",
    "early_stop = EarlyStopping(monitor='val_loss', patience=4, restore_best_weights=True, verbose=1)\n",
    "reduce_lr = ReduceLROnPlateau(monitor='val_loss', factor=0.5, patience=2, verbose=1)\n",
    "\n",
    "history = model.fit(X_train_padded, y_train,\n",
    "                    epochs=25,\n",
    "                    batch_size=128,\n",
    "                    validation_data=(X_test_padded, y_test),\n",
    "                    callbacks=[early_stop, reduce_lr])\n"
   ]
  },
  {
   "cell_type": "code",
   "execution_count": 22,
   "id": "1ebd0384-4ab9-43b4-a1b2-04d8678dd062",
   "metadata": {
    "execution": {
     "iopub.execute_input": "2025-07-06T15:51:39.914397Z",
     "iopub.status.busy": "2025-07-06T15:51:39.914112Z",
     "iopub.status.idle": "2025-07-06T15:51:49.665375Z",
     "shell.execute_reply": "2025-07-06T15:51:49.664589Z",
     "shell.execute_reply.started": "2025-07-06T15:51:39.914375Z"
    }
   },
   "outputs": [
    {
     "name": "stdout",
     "output_type": "stream",
     "text": [
      "\u001b[1m110/110\u001b[0m \u001b[32m━━━━━━━━━━━━━━━━━━━━\u001b[0m\u001b[37m\u001b[0m \u001b[1m10s\u001b[0m 87ms/step - accuracy: 0.9002 - loss: 0.2755\n",
      "\n",
      "Test Accuracy: 90.60%\n"
     ]
    }
   ],
   "source": [
    "# Evaluating the Model\n",
    "test_loss, test_accuracy = model.evaluate(X_test_padded, y_test)\n",
    "print(\"\\nTest Accuracy: {:.2f}%\".format(test_accuracy * 100))"
   ]
  },
  {
   "cell_type": "code",
   "execution_count": 23,
   "id": "9e5704fd-395d-43b5-bc80-595874b4412e",
   "metadata": {
    "execution": {
     "iopub.execute_input": "2025-07-06T15:51:57.239988Z",
     "iopub.status.busy": "2025-07-06T15:51:57.239174Z",
     "iopub.status.idle": "2025-07-06T15:52:09.012809Z",
     "shell.execute_reply": "2025-07-06T15:52:09.012283Z",
     "shell.execute_reply.started": "2025-07-06T15:51:57.239955Z"
    }
   },
   "outputs": [
    {
     "name": "stdout",
     "output_type": "stream",
     "text": [
      "\u001b[1m110/110\u001b[0m \u001b[32m━━━━━━━━━━━━━━━━━━━━\u001b[0m\u001b[37m\u001b[0m \u001b[1m12s\u001b[0m 95ms/step\n"
     ]
    }
   ],
   "source": [
    "# Predict on test set\n",
    "y_pred_nn_probs = model.predict(X_test_padded)\n",
    "y_pred_nn = np.argmax(y_pred_nn_probs, axis=1)"
   ]
  },
  {
   "cell_type": "code",
   "execution_count": 24,
   "id": "1327170d-d735-4e2b-9b34-fd7e4bcf4db9",
   "metadata": {
    "execution": {
     "iopub.execute_input": "2025-07-06T15:52:13.201505Z",
     "iopub.status.busy": "2025-07-06T15:52:13.201231Z",
     "iopub.status.idle": "2025-07-06T15:52:13.207825Z",
     "shell.execute_reply": "2025-07-06T15:52:13.206875Z",
     "shell.execute_reply.started": "2025-07-06T15:52:13.201485Z"
    }
   },
   "outputs": [],
   "source": [
    "# Get original label strings\n",
    "# Re-decode one-hot true labels to integers\n",
    "y_true_nn = np.argmax(y_test, axis=1)\n",
    "\n",
    "# Use the same label encoder to decode class indices back to strings\n",
    "true_labels = label_encoder.inverse_transform(y_true_nn)\n",
    "pred_labels = label_encoder.inverse_transform(y_pred_nn)"
   ]
  },
  {
   "cell_type": "code",
   "execution_count": 25,
   "id": "d07bb3bf-582d-4e3c-88b7-6b13882aef11",
   "metadata": {
    "execution": {
     "iopub.execute_input": "2025-07-06T15:52:14.828729Z",
     "iopub.status.busy": "2025-07-06T15:52:14.828431Z",
     "iopub.status.idle": "2025-07-06T15:52:14.833562Z",
     "shell.execute_reply": "2025-07-06T15:52:14.832758Z",
     "shell.execute_reply.started": "2025-07-06T15:52:14.828710Z"
    }
   },
   "outputs": [],
   "source": [
    "# Build DataFrame for saving\n",
    "df_nn = pd.DataFrame({\n",
    "    'text': X_test,                # raw input texts before tokenization\n",
    "    'true_label': true_labels,\n",
    "    'nn_pred': pred_labels\n",
    "})\n",
    "\n",
    "\n"
   ]
  },
  {
   "cell_type": "code",
   "execution_count": 26,
   "id": "a0db7933-afec-49c1-b061-a8922f4db223",
   "metadata": {
    "execution": {
     "iopub.execute_input": "2025-07-06T15:52:17.326209Z",
     "iopub.status.busy": "2025-07-06T15:52:17.325647Z",
     "iopub.status.idle": "2025-07-06T15:52:17.417556Z",
     "shell.execute_reply": "2025-07-06T15:52:17.416950Z",
     "shell.execute_reply.started": "2025-07-06T15:52:17.326186Z"
    }
   },
   "outputs": [
    {
     "name": "stdout",
     "output_type": "stream",
     "text": [
      "✅ Saved predictions_nn.csv with 3500 rows\n",
      "                                                text true_label   nn_pred\n",
      "0  hey cancerdad face issue take 2 kid gi recheck...   negative  negative\n",
      "1  really hope get opinion since sure become expe...   negative  negative\n",
      "2  experience scary symptom several month many sy...   negative   neutral\n",
      "3  read lot discussion smoking factor develop lun...   positive  positive\n",
      "4  oh god exhausted drop help hand need abandon s...   negative  negative\n"
     ]
    }
   ],
   "source": [
    "#  Save to CSV\n",
    "df_nn.to_csv('predictions_nn.csv', index=False)\n",
    "print(\"✅ Saved predictions_nn.csv with\", len(df_nn), \"rows\")\n",
    "print(df_nn.head())"
   ]
  }
 ],
 "metadata": {
  "kaggle": {
   "accelerator": "nvidiaTeslaT4",
   "dataSources": [
    {
     "datasetId": 4091589,
     "sourceId": 7098547,
     "sourceType": "datasetVersion"
    }
   ],
   "dockerImageVersionId": 31041,
   "isGpuEnabled": true,
   "isInternetEnabled": true,
   "language": "python",
   "sourceType": "notebook"
  },
  "kernelspec": {
   "display_name": "Python 3 (ipykernel)",
   "language": "python",
   "name": "python3"
  },
  "language_info": {
   "codemirror_mode": {
    "name": "ipython",
    "version": 3
   },
   "file_extension": ".py",
   "mimetype": "text/x-python",
   "name": "python",
   "nbconvert_exporter": "python",
   "pygments_lexer": "ipython3",
   "version": "3.11.7"
  }
 },
 "nbformat": 4,
 "nbformat_minor": 5
}
